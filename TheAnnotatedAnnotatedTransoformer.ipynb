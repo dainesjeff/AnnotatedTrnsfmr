{
  "nbformat": 4,
  "nbformat_minor": 0,
  "metadata": {
    "colab": {
      "provenance": [],
      "collapsed_sections": [
        "ELvGz5Pr3mJO",
        "K3d1YV3f0BHD",
        "NO0loVOl0S7I",
        "TVFbPi5G9CXj",
        "5nudixDC-WbP",
        "GhVz4TFGllI-",
        "yFPrBFs4Ssly",
        "AG1H34On_-qR",
        "X6V1X-jaXqtg",
        "tpCHY_ERZSf-",
        "lv9ZifDrwkrW"
      ],
      "authorship_tag": "ABX9TyMpjyNJYOYmctxGj8JCBOFb",
      "include_colab_link": true
    },
    "kernelspec": {
      "name": "python3",
      "display_name": "Python 3"
    },
    "language_info": {
      "name": "python"
    }
  },
  "cells": [
    {
      "cell_type": "markdown",
      "metadata": {
        "id": "view-in-github",
        "colab_type": "text"
      },
      "source": [
        "<a href=\"https://colab.research.google.com/github/dainesjeff/AnnotatedTrnsfmr/blob/main/TheAnnotatedAnnotatedTransoformer.ipynb\" target=\"_parent\"><img src=\"https://colab.research.google.com/assets/colab-badge.svg\" alt=\"Open In Colab\"/></a>"
      ]
    },
    {
      "cell_type": "markdown",
      "source": [
        "# **Transformers: the Big Picture**"
      ],
      "metadata": {
        "id": "ELvGz5Pr3mJO"
      }
    },
    {
      "cell_type": "markdown",
      "source": [
        "\n",
        "\n",
        "*  A transformer is a network that creates word embeddings and then uses a\n",
        "pair of matrices (the Key and Query Matrices) to performer a linear *Transformation* on these embedding vectors in order to optimize computing similarity between vectors using scaled dot-products.\n",
        "\n",
        "*   Once the Key and Query matrices are used to compute the similarity between the input embedding and all the other embeddings in the vocabulary. A Value matrix *Transformers* the similarity vector into a vector optimized for computing the next word in the sequence via the same scaled dot-product mechanism.\n",
        "\n",
        "*   The model applies residual connections between layers to implement a \"memory\" mechanism to take into account the context of the embeddings in their history.\n",
        "*   Finally, masking is applied to ensure that the model is not using context from its own understanding of future embeddings in a sequence.\n",
        "\n",
        "\n",
        "*   Multi-Head Attention uses stacks of the K,Q, and V matrices and then concatenates the Value matrices to produces one Hhigh dimensional value matrix. An additional dimensionality-reduction matrix *Transformation* is applied to the high-dimensional value space.\n",
        "*   List item\n",
        "\n",
        "\n",
        "\n",
        "\n"
      ],
      "metadata": {
        "id": "eTvqa9zH3y6k"
      }
    },
    {
      "cell_type": "markdown",
      "source": [
        "# **Installs and Convenience Methods**"
      ],
      "metadata": {
        "id": "K3d1YV3f0BHD"
      }
    },
    {
      "cell_type": "code",
      "source": [
        "!pip install torchtext\n",
        "!pip install spacy\n",
        "!pip install portalocker\n",
        "!python -m spacy download en_core_web_sm\n",
        "!python -m spacy download de_core_news_sm"
      ],
      "metadata": {
        "colab": {
          "base_uri": "https://localhost:8080/"
        },
        "id": "2bkvp0ggzuJA",
        "outputId": "7b4a5e90-b905-4261-b781-a3c1516d71b2"
      },
      "execution_count": 1,
      "outputs": [
        {
          "output_type": "stream",
          "name": "stdout",
          "text": [
            "Requirement already satisfied: torchtext in /usr/local/lib/python3.10/dist-packages (0.16.0)\n",
            "Requirement already satisfied: tqdm in /usr/local/lib/python3.10/dist-packages (from torchtext) (4.66.1)\n",
            "Requirement already satisfied: requests in /usr/local/lib/python3.10/dist-packages (from torchtext) (2.31.0)\n",
            "Requirement already satisfied: torch==2.1.0 in /usr/local/lib/python3.10/dist-packages (from torchtext) (2.1.0+cu121)\n",
            "Requirement already satisfied: numpy in /usr/local/lib/python3.10/dist-packages (from torchtext) (1.23.5)\n",
            "Requirement already satisfied: torchdata==0.7.0 in /usr/local/lib/python3.10/dist-packages (from torchtext) (0.7.0)\n",
            "Requirement already satisfied: filelock in /usr/local/lib/python3.10/dist-packages (from torch==2.1.0->torchtext) (3.13.1)\n",
            "Requirement already satisfied: typing-extensions in /usr/local/lib/python3.10/dist-packages (from torch==2.1.0->torchtext) (4.5.0)\n",
            "Requirement already satisfied: sympy in /usr/local/lib/python3.10/dist-packages (from torch==2.1.0->torchtext) (1.12)\n",
            "Requirement already satisfied: networkx in /usr/local/lib/python3.10/dist-packages (from torch==2.1.0->torchtext) (3.2.1)\n",
            "Requirement already satisfied: jinja2 in /usr/local/lib/python3.10/dist-packages (from torch==2.1.0->torchtext) (3.1.2)\n",
            "Requirement already satisfied: fsspec in /usr/local/lib/python3.10/dist-packages (from torch==2.1.0->torchtext) (2023.6.0)\n",
            "Requirement already satisfied: triton==2.1.0 in /usr/local/lib/python3.10/dist-packages (from torch==2.1.0->torchtext) (2.1.0)\n",
            "Requirement already satisfied: urllib3>=1.25 in /usr/local/lib/python3.10/dist-packages (from torchdata==0.7.0->torchtext) (2.0.7)\n",
            "Requirement already satisfied: charset-normalizer<4,>=2 in /usr/local/lib/python3.10/dist-packages (from requests->torchtext) (3.3.2)\n",
            "Requirement already satisfied: idna<4,>=2.5 in /usr/local/lib/python3.10/dist-packages (from requests->torchtext) (3.6)\n",
            "Requirement already satisfied: certifi>=2017.4.17 in /usr/local/lib/python3.10/dist-packages (from requests->torchtext) (2023.11.17)\n",
            "Requirement already satisfied: MarkupSafe>=2.0 in /usr/local/lib/python3.10/dist-packages (from jinja2->torch==2.1.0->torchtext) (2.1.3)\n",
            "Requirement already satisfied: mpmath>=0.19 in /usr/local/lib/python3.10/dist-packages (from sympy->torch==2.1.0->torchtext) (1.3.0)\n",
            "Requirement already satisfied: spacy in /usr/local/lib/python3.10/dist-packages (3.6.1)\n",
            "Requirement already satisfied: spacy-legacy<3.1.0,>=3.0.11 in /usr/local/lib/python3.10/dist-packages (from spacy) (3.0.12)\n",
            "Requirement already satisfied: spacy-loggers<2.0.0,>=1.0.0 in /usr/local/lib/python3.10/dist-packages (from spacy) (1.0.5)\n",
            "Requirement already satisfied: murmurhash<1.1.0,>=0.28.0 in /usr/local/lib/python3.10/dist-packages (from spacy) (1.0.10)\n",
            "Requirement already satisfied: cymem<2.1.0,>=2.0.2 in /usr/local/lib/python3.10/dist-packages (from spacy) (2.0.8)\n",
            "Requirement already satisfied: preshed<3.1.0,>=3.0.2 in /usr/local/lib/python3.10/dist-packages (from spacy) (3.0.9)\n",
            "Requirement already satisfied: thinc<8.2.0,>=8.1.8 in /usr/local/lib/python3.10/dist-packages (from spacy) (8.1.12)\n",
            "Requirement already satisfied: wasabi<1.2.0,>=0.9.1 in /usr/local/lib/python3.10/dist-packages (from spacy) (1.1.2)\n",
            "Requirement already satisfied: srsly<3.0.0,>=2.4.3 in /usr/local/lib/python3.10/dist-packages (from spacy) (2.4.8)\n",
            "Requirement already satisfied: catalogue<2.1.0,>=2.0.6 in /usr/local/lib/python3.10/dist-packages (from spacy) (2.0.10)\n",
            "Requirement already satisfied: typer<0.10.0,>=0.3.0 in /usr/local/lib/python3.10/dist-packages (from spacy) (0.9.0)\n",
            "Requirement already satisfied: pathy>=0.10.0 in /usr/local/lib/python3.10/dist-packages (from spacy) (0.10.3)\n",
            "Requirement already satisfied: smart-open<7.0.0,>=5.2.1 in /usr/local/lib/python3.10/dist-packages (from spacy) (6.4.0)\n",
            "Requirement already satisfied: tqdm<5.0.0,>=4.38.0 in /usr/local/lib/python3.10/dist-packages (from spacy) (4.66.1)\n",
            "Requirement already satisfied: numpy>=1.15.0 in /usr/local/lib/python3.10/dist-packages (from spacy) (1.23.5)\n",
            "Requirement already satisfied: requests<3.0.0,>=2.13.0 in /usr/local/lib/python3.10/dist-packages (from spacy) (2.31.0)\n",
            "Requirement already satisfied: pydantic!=1.8,!=1.8.1,<3.0.0,>=1.7.4 in /usr/local/lib/python3.10/dist-packages (from spacy) (1.10.13)\n",
            "Requirement already satisfied: jinja2 in /usr/local/lib/python3.10/dist-packages (from spacy) (3.1.2)\n",
            "Requirement already satisfied: setuptools in /usr/local/lib/python3.10/dist-packages (from spacy) (67.7.2)\n",
            "Requirement already satisfied: packaging>=20.0 in /usr/local/lib/python3.10/dist-packages (from spacy) (23.2)\n",
            "Requirement already satisfied: langcodes<4.0.0,>=3.2.0 in /usr/local/lib/python3.10/dist-packages (from spacy) (3.3.0)\n",
            "Requirement already satisfied: typing-extensions>=4.2.0 in /usr/local/lib/python3.10/dist-packages (from pydantic!=1.8,!=1.8.1,<3.0.0,>=1.7.4->spacy) (4.5.0)\n",
            "Requirement already satisfied: charset-normalizer<4,>=2 in /usr/local/lib/python3.10/dist-packages (from requests<3.0.0,>=2.13.0->spacy) (3.3.2)\n",
            "Requirement already satisfied: idna<4,>=2.5 in /usr/local/lib/python3.10/dist-packages (from requests<3.0.0,>=2.13.0->spacy) (3.6)\n",
            "Requirement already satisfied: urllib3<3,>=1.21.1 in /usr/local/lib/python3.10/dist-packages (from requests<3.0.0,>=2.13.0->spacy) (2.0.7)\n",
            "Requirement already satisfied: certifi>=2017.4.17 in /usr/local/lib/python3.10/dist-packages (from requests<3.0.0,>=2.13.0->spacy) (2023.11.17)\n",
            "Requirement already satisfied: blis<0.8.0,>=0.7.8 in /usr/local/lib/python3.10/dist-packages (from thinc<8.2.0,>=8.1.8->spacy) (0.7.11)\n",
            "Requirement already satisfied: confection<1.0.0,>=0.0.1 in /usr/local/lib/python3.10/dist-packages (from thinc<8.2.0,>=8.1.8->spacy) (0.1.4)\n",
            "Requirement already satisfied: click<9.0.0,>=7.1.1 in /usr/local/lib/python3.10/dist-packages (from typer<0.10.0,>=0.3.0->spacy) (8.1.7)\n",
            "Requirement already satisfied: MarkupSafe>=2.0 in /usr/local/lib/python3.10/dist-packages (from jinja2->spacy) (2.1.3)\n",
            "Collecting portalocker\n",
            "  Downloading portalocker-2.8.2-py3-none-any.whl (17 kB)\n",
            "Installing collected packages: portalocker\n",
            "Successfully installed portalocker-2.8.2\n",
            "2023-12-15 19:00:04.265875: E external/local_xla/xla/stream_executor/cuda/cuda_dnn.cc:9261] Unable to register cuDNN factory: Attempting to register factory for plugin cuDNN when one has already been registered\n",
            "2023-12-15 19:00:04.265944: E external/local_xla/xla/stream_executor/cuda/cuda_fft.cc:607] Unable to register cuFFT factory: Attempting to register factory for plugin cuFFT when one has already been registered\n",
            "2023-12-15 19:00:04.267380: E external/local_xla/xla/stream_executor/cuda/cuda_blas.cc:1515] Unable to register cuBLAS factory: Attempting to register factory for plugin cuBLAS when one has already been registered\n",
            "2023-12-15 19:00:04.275652: I tensorflow/core/platform/cpu_feature_guard.cc:182] This TensorFlow binary is optimized to use available CPU instructions in performance-critical operations.\n",
            "To enable the following instructions: AVX2 FMA, in other operations, rebuild TensorFlow with the appropriate compiler flags.\n",
            "2023-12-15 19:00:05.471550: W tensorflow/compiler/tf2tensorrt/utils/py_utils.cc:38] TF-TRT Warning: Could not find TensorRT\n",
            "Collecting en-core-web-sm==3.6.0\n",
            "  Downloading https://github.com/explosion/spacy-models/releases/download/en_core_web_sm-3.6.0/en_core_web_sm-3.6.0-py3-none-any.whl (12.8 MB)\n",
            "\u001b[2K     \u001b[90m━━━━━━━━━━━━━━━━━━━━━━━━━━━━━━━━━━━━━━━━\u001b[0m \u001b[32m12.8/12.8 MB\u001b[0m \u001b[31m81.9 MB/s\u001b[0m eta \u001b[36m0:00:00\u001b[0m\n",
            "\u001b[?25hRequirement already satisfied: spacy<3.7.0,>=3.6.0 in /usr/local/lib/python3.10/dist-packages (from en-core-web-sm==3.6.0) (3.6.1)\n",
            "Requirement already satisfied: spacy-legacy<3.1.0,>=3.0.11 in /usr/local/lib/python3.10/dist-packages (from spacy<3.7.0,>=3.6.0->en-core-web-sm==3.6.0) (3.0.12)\n",
            "Requirement already satisfied: spacy-loggers<2.0.0,>=1.0.0 in /usr/local/lib/python3.10/dist-packages (from spacy<3.7.0,>=3.6.0->en-core-web-sm==3.6.0) (1.0.5)\n",
            "Requirement already satisfied: murmurhash<1.1.0,>=0.28.0 in /usr/local/lib/python3.10/dist-packages (from spacy<3.7.0,>=3.6.0->en-core-web-sm==3.6.0) (1.0.10)\n",
            "Requirement already satisfied: cymem<2.1.0,>=2.0.2 in /usr/local/lib/python3.10/dist-packages (from spacy<3.7.0,>=3.6.0->en-core-web-sm==3.6.0) (2.0.8)\n",
            "Requirement already satisfied: preshed<3.1.0,>=3.0.2 in /usr/local/lib/python3.10/dist-packages (from spacy<3.7.0,>=3.6.0->en-core-web-sm==3.6.0) (3.0.9)\n",
            "Requirement already satisfied: thinc<8.2.0,>=8.1.8 in /usr/local/lib/python3.10/dist-packages (from spacy<3.7.0,>=3.6.0->en-core-web-sm==3.6.0) (8.1.12)\n",
            "Requirement already satisfied: wasabi<1.2.0,>=0.9.1 in /usr/local/lib/python3.10/dist-packages (from spacy<3.7.0,>=3.6.0->en-core-web-sm==3.6.0) (1.1.2)\n",
            "Requirement already satisfied: srsly<3.0.0,>=2.4.3 in /usr/local/lib/python3.10/dist-packages (from spacy<3.7.0,>=3.6.0->en-core-web-sm==3.6.0) (2.4.8)\n",
            "Requirement already satisfied: catalogue<2.1.0,>=2.0.6 in /usr/local/lib/python3.10/dist-packages (from spacy<3.7.0,>=3.6.0->en-core-web-sm==3.6.0) (2.0.10)\n",
            "Requirement already satisfied: typer<0.10.0,>=0.3.0 in /usr/local/lib/python3.10/dist-packages (from spacy<3.7.0,>=3.6.0->en-core-web-sm==3.6.0) (0.9.0)\n",
            "Requirement already satisfied: pathy>=0.10.0 in /usr/local/lib/python3.10/dist-packages (from spacy<3.7.0,>=3.6.0->en-core-web-sm==3.6.0) (0.10.3)\n",
            "Requirement already satisfied: smart-open<7.0.0,>=5.2.1 in /usr/local/lib/python3.10/dist-packages (from spacy<3.7.0,>=3.6.0->en-core-web-sm==3.6.0) (6.4.0)\n",
            "Requirement already satisfied: tqdm<5.0.0,>=4.38.0 in /usr/local/lib/python3.10/dist-packages (from spacy<3.7.0,>=3.6.0->en-core-web-sm==3.6.0) (4.66.1)\n",
            "Requirement already satisfied: numpy>=1.15.0 in /usr/local/lib/python3.10/dist-packages (from spacy<3.7.0,>=3.6.0->en-core-web-sm==3.6.0) (1.23.5)\n",
            "Requirement already satisfied: requests<3.0.0,>=2.13.0 in /usr/local/lib/python3.10/dist-packages (from spacy<3.7.0,>=3.6.0->en-core-web-sm==3.6.0) (2.31.0)\n",
            "Requirement already satisfied: pydantic!=1.8,!=1.8.1,<3.0.0,>=1.7.4 in /usr/local/lib/python3.10/dist-packages (from spacy<3.7.0,>=3.6.0->en-core-web-sm==3.6.0) (1.10.13)\n",
            "Requirement already satisfied: jinja2 in /usr/local/lib/python3.10/dist-packages (from spacy<3.7.0,>=3.6.0->en-core-web-sm==3.6.0) (3.1.2)\n",
            "Requirement already satisfied: setuptools in /usr/local/lib/python3.10/dist-packages (from spacy<3.7.0,>=3.6.0->en-core-web-sm==3.6.0) (67.7.2)\n",
            "Requirement already satisfied: packaging>=20.0 in /usr/local/lib/python3.10/dist-packages (from spacy<3.7.0,>=3.6.0->en-core-web-sm==3.6.0) (23.2)\n",
            "Requirement already satisfied: langcodes<4.0.0,>=3.2.0 in /usr/local/lib/python3.10/dist-packages (from spacy<3.7.0,>=3.6.0->en-core-web-sm==3.6.0) (3.3.0)\n",
            "Requirement already satisfied: typing-extensions>=4.2.0 in /usr/local/lib/python3.10/dist-packages (from pydantic!=1.8,!=1.8.1,<3.0.0,>=1.7.4->spacy<3.7.0,>=3.6.0->en-core-web-sm==3.6.0) (4.5.0)\n",
            "Requirement already satisfied: charset-normalizer<4,>=2 in /usr/local/lib/python3.10/dist-packages (from requests<3.0.0,>=2.13.0->spacy<3.7.0,>=3.6.0->en-core-web-sm==3.6.0) (3.3.2)\n",
            "Requirement already satisfied: idna<4,>=2.5 in /usr/local/lib/python3.10/dist-packages (from requests<3.0.0,>=2.13.0->spacy<3.7.0,>=3.6.0->en-core-web-sm==3.6.0) (3.6)\n",
            "Requirement already satisfied: urllib3<3,>=1.21.1 in /usr/local/lib/python3.10/dist-packages (from requests<3.0.0,>=2.13.0->spacy<3.7.0,>=3.6.0->en-core-web-sm==3.6.0) (2.0.7)\n",
            "Requirement already satisfied: certifi>=2017.4.17 in /usr/local/lib/python3.10/dist-packages (from requests<3.0.0,>=2.13.0->spacy<3.7.0,>=3.6.0->en-core-web-sm==3.6.0) (2023.11.17)\n",
            "Requirement already satisfied: blis<0.8.0,>=0.7.8 in /usr/local/lib/python3.10/dist-packages (from thinc<8.2.0,>=8.1.8->spacy<3.7.0,>=3.6.0->en-core-web-sm==3.6.0) (0.7.11)\n",
            "Requirement already satisfied: confection<1.0.0,>=0.0.1 in /usr/local/lib/python3.10/dist-packages (from thinc<8.2.0,>=8.1.8->spacy<3.7.0,>=3.6.0->en-core-web-sm==3.6.0) (0.1.4)\n",
            "Requirement already satisfied: click<9.0.0,>=7.1.1 in /usr/local/lib/python3.10/dist-packages (from typer<0.10.0,>=0.3.0->spacy<3.7.0,>=3.6.0->en-core-web-sm==3.6.0) (8.1.7)\n",
            "Requirement already satisfied: MarkupSafe>=2.0 in /usr/local/lib/python3.10/dist-packages (from jinja2->spacy<3.7.0,>=3.6.0->en-core-web-sm==3.6.0) (2.1.3)\n",
            "\u001b[38;5;2m✔ Download and installation successful\u001b[0m\n",
            "You can now load the package via spacy.load('en_core_web_sm')\n",
            "2023-12-15 19:00:20.545520: E external/local_xla/xla/stream_executor/cuda/cuda_dnn.cc:9261] Unable to register cuDNN factory: Attempting to register factory for plugin cuDNN when one has already been registered\n",
            "2023-12-15 19:00:20.545587: E external/local_xla/xla/stream_executor/cuda/cuda_fft.cc:607] Unable to register cuFFT factory: Attempting to register factory for plugin cuFFT when one has already been registered\n",
            "2023-12-15 19:00:20.546938: E external/local_xla/xla/stream_executor/cuda/cuda_blas.cc:1515] Unable to register cuBLAS factory: Attempting to register factory for plugin cuBLAS when one has already been registered\n",
            "2023-12-15 19:00:20.554715: I tensorflow/core/platform/cpu_feature_guard.cc:182] This TensorFlow binary is optimized to use available CPU instructions in performance-critical operations.\n",
            "To enable the following instructions: AVX2 FMA, in other operations, rebuild TensorFlow with the appropriate compiler flags.\n",
            "2023-12-15 19:00:21.761214: W tensorflow/compiler/tf2tensorrt/utils/py_utils.cc:38] TF-TRT Warning: Could not find TensorRT\n",
            "Collecting de-core-news-sm==3.6.0\n",
            "  Downloading https://github.com/explosion/spacy-models/releases/download/de_core_news_sm-3.6.0/de_core_news_sm-3.6.0-py3-none-any.whl (14.6 MB)\n",
            "\u001b[2K     \u001b[90m━━━━━━━━━━━━━━━━━━━━━━━━━━━━━━━━━━━━━━━━\u001b[0m \u001b[32m14.6/14.6 MB\u001b[0m \u001b[31m75.0 MB/s\u001b[0m eta \u001b[36m0:00:00\u001b[0m\n",
            "\u001b[?25hRequirement already satisfied: spacy<3.7.0,>=3.6.0 in /usr/local/lib/python3.10/dist-packages (from de-core-news-sm==3.6.0) (3.6.1)\n",
            "Requirement already satisfied: spacy-legacy<3.1.0,>=3.0.11 in /usr/local/lib/python3.10/dist-packages (from spacy<3.7.0,>=3.6.0->de-core-news-sm==3.6.0) (3.0.12)\n",
            "Requirement already satisfied: spacy-loggers<2.0.0,>=1.0.0 in /usr/local/lib/python3.10/dist-packages (from spacy<3.7.0,>=3.6.0->de-core-news-sm==3.6.0) (1.0.5)\n",
            "Requirement already satisfied: murmurhash<1.1.0,>=0.28.0 in /usr/local/lib/python3.10/dist-packages (from spacy<3.7.0,>=3.6.0->de-core-news-sm==3.6.0) (1.0.10)\n",
            "Requirement already satisfied: cymem<2.1.0,>=2.0.2 in /usr/local/lib/python3.10/dist-packages (from spacy<3.7.0,>=3.6.0->de-core-news-sm==3.6.0) (2.0.8)\n",
            "Requirement already satisfied: preshed<3.1.0,>=3.0.2 in /usr/local/lib/python3.10/dist-packages (from spacy<3.7.0,>=3.6.0->de-core-news-sm==3.6.0) (3.0.9)\n",
            "Requirement already satisfied: thinc<8.2.0,>=8.1.8 in /usr/local/lib/python3.10/dist-packages (from spacy<3.7.0,>=3.6.0->de-core-news-sm==3.6.0) (8.1.12)\n",
            "Requirement already satisfied: wasabi<1.2.0,>=0.9.1 in /usr/local/lib/python3.10/dist-packages (from spacy<3.7.0,>=3.6.0->de-core-news-sm==3.6.0) (1.1.2)\n",
            "Requirement already satisfied: srsly<3.0.0,>=2.4.3 in /usr/local/lib/python3.10/dist-packages (from spacy<3.7.0,>=3.6.0->de-core-news-sm==3.6.0) (2.4.8)\n",
            "Requirement already satisfied: catalogue<2.1.0,>=2.0.6 in /usr/local/lib/python3.10/dist-packages (from spacy<3.7.0,>=3.6.0->de-core-news-sm==3.6.0) (2.0.10)\n",
            "Requirement already satisfied: typer<0.10.0,>=0.3.0 in /usr/local/lib/python3.10/dist-packages (from spacy<3.7.0,>=3.6.0->de-core-news-sm==3.6.0) (0.9.0)\n",
            "Requirement already satisfied: pathy>=0.10.0 in /usr/local/lib/python3.10/dist-packages (from spacy<3.7.0,>=3.6.0->de-core-news-sm==3.6.0) (0.10.3)\n",
            "Requirement already satisfied: smart-open<7.0.0,>=5.2.1 in /usr/local/lib/python3.10/dist-packages (from spacy<3.7.0,>=3.6.0->de-core-news-sm==3.6.0) (6.4.0)\n",
            "Requirement already satisfied: tqdm<5.0.0,>=4.38.0 in /usr/local/lib/python3.10/dist-packages (from spacy<3.7.0,>=3.6.0->de-core-news-sm==3.6.0) (4.66.1)\n",
            "Requirement already satisfied: numpy>=1.15.0 in /usr/local/lib/python3.10/dist-packages (from spacy<3.7.0,>=3.6.0->de-core-news-sm==3.6.0) (1.23.5)\n",
            "Requirement already satisfied: requests<3.0.0,>=2.13.0 in /usr/local/lib/python3.10/dist-packages (from spacy<3.7.0,>=3.6.0->de-core-news-sm==3.6.0) (2.31.0)\n",
            "Requirement already satisfied: pydantic!=1.8,!=1.8.1,<3.0.0,>=1.7.4 in /usr/local/lib/python3.10/dist-packages (from spacy<3.7.0,>=3.6.0->de-core-news-sm==3.6.0) (1.10.13)\n",
            "Requirement already satisfied: jinja2 in /usr/local/lib/python3.10/dist-packages (from spacy<3.7.0,>=3.6.0->de-core-news-sm==3.6.0) (3.1.2)\n",
            "Requirement already satisfied: setuptools in /usr/local/lib/python3.10/dist-packages (from spacy<3.7.0,>=3.6.0->de-core-news-sm==3.6.0) (67.7.2)\n",
            "Requirement already satisfied: packaging>=20.0 in /usr/local/lib/python3.10/dist-packages (from spacy<3.7.0,>=3.6.0->de-core-news-sm==3.6.0) (23.2)\n",
            "Requirement already satisfied: langcodes<4.0.0,>=3.2.0 in /usr/local/lib/python3.10/dist-packages (from spacy<3.7.0,>=3.6.0->de-core-news-sm==3.6.0) (3.3.0)\n",
            "Requirement already satisfied: typing-extensions>=4.2.0 in /usr/local/lib/python3.10/dist-packages (from pydantic!=1.8,!=1.8.1,<3.0.0,>=1.7.4->spacy<3.7.0,>=3.6.0->de-core-news-sm==3.6.0) (4.5.0)\n",
            "Requirement already satisfied: charset-normalizer<4,>=2 in /usr/local/lib/python3.10/dist-packages (from requests<3.0.0,>=2.13.0->spacy<3.7.0,>=3.6.0->de-core-news-sm==3.6.0) (3.3.2)\n",
            "Requirement already satisfied: idna<4,>=2.5 in /usr/local/lib/python3.10/dist-packages (from requests<3.0.0,>=2.13.0->spacy<3.7.0,>=3.6.0->de-core-news-sm==3.6.0) (3.6)\n",
            "Requirement already satisfied: urllib3<3,>=1.21.1 in /usr/local/lib/python3.10/dist-packages (from requests<3.0.0,>=2.13.0->spacy<3.7.0,>=3.6.0->de-core-news-sm==3.6.0) (2.0.7)\n",
            "Requirement already satisfied: certifi>=2017.4.17 in /usr/local/lib/python3.10/dist-packages (from requests<3.0.0,>=2.13.0->spacy<3.7.0,>=3.6.0->de-core-news-sm==3.6.0) (2023.11.17)\n",
            "Requirement already satisfied: blis<0.8.0,>=0.7.8 in /usr/local/lib/python3.10/dist-packages (from thinc<8.2.0,>=8.1.8->spacy<3.7.0,>=3.6.0->de-core-news-sm==3.6.0) (0.7.11)\n",
            "Requirement already satisfied: confection<1.0.0,>=0.0.1 in /usr/local/lib/python3.10/dist-packages (from thinc<8.2.0,>=8.1.8->spacy<3.7.0,>=3.6.0->de-core-news-sm==3.6.0) (0.1.4)\n",
            "Requirement already satisfied: click<9.0.0,>=7.1.1 in /usr/local/lib/python3.10/dist-packages (from typer<0.10.0,>=0.3.0->spacy<3.7.0,>=3.6.0->de-core-news-sm==3.6.0) (8.1.7)\n",
            "Requirement already satisfied: MarkupSafe>=2.0 in /usr/local/lib/python3.10/dist-packages (from jinja2->spacy<3.7.0,>=3.6.0->de-core-news-sm==3.6.0) (2.1.3)\n",
            "Installing collected packages: de-core-news-sm\n",
            "Successfully installed de-core-news-sm-3.6.0\n",
            "\u001b[38;5;2m✔ Download and installation successful\u001b[0m\n",
            "You can now load the package via spacy.load('de_core_news_sm')\n"
          ]
        }
      ]
    },
    {
      "cell_type": "code",
      "source": [
        "\n",
        "\n",
        "### Conveinience Methods\n",
        "RUN_EXAMPLES = True\n",
        "\n",
        "def is_interactive_notebook():\n",
        "    return __name__ == \"__main__\"\n",
        "\n",
        "\n",
        "def show_example(fn, args=[]):\n",
        "    if __name__ == \"__main__\" and RUN_EXAMPLES:\n",
        "        return fn(*args)"
      ],
      "metadata": {
        "id": "31v_T9kmQlot"
      },
      "execution_count": 2,
      "outputs": []
    },
    {
      "cell_type": "markdown",
      "source": [],
      "metadata": {
        "id": "EkSZWBhv3jAv"
      }
    },
    {
      "cell_type": "markdown",
      "source": [],
      "metadata": {
        "id": "roY1Le_g3jzD"
      }
    },
    {
      "cell_type": "markdown",
      "source": [
        "# **The Model Architecture**\n",
        "\n"
      ],
      "metadata": {
        "id": "NO0loVOl0S7I"
      }
    },
    {
      "cell_type": "markdown",
      "source": [
        "**the top level module that encapsulates the broader encoder/decoder framework.**"
      ],
      "metadata": {
        "id": "xYDIEynR2kDF"
      }
    },
    {
      "cell_type": "code",
      "source": [
        "import torch\n",
        "import torch.nn as nn\n",
        "from torch.nn.functional import log_softmax, pad\n",
        "\n",
        "class EncoderDecoder(nn.Module):\n",
        "    \"\"\"\n",
        "    A standard Encoder-Decoder architecture. Base for this and many\n",
        "    other models.\n",
        "    \"\"\"\n",
        "\n",
        "    def __init__(self, encoder, decoder, src_embed, tgt_embed, generator):\n",
        "        super(EncoderDecoder, self).__init__()\n",
        "        self.encoder = encoder\n",
        "        self.decoder = decoder\n",
        "        self.src_embed = src_embed\n",
        "        self.tgt_embed = tgt_embed\n",
        "        self.generator = generator\n",
        "\n",
        "    def forward(self, src, tgt, src_mask, tgt_mask):\n",
        "        \"Take in and process masked src and target sequences.\"\n",
        "        return self.decode(self.encode(src, src_mask), src_mask, tgt, tgt_mask)\n",
        "\n",
        "    def encode(self, src, src_mask):\n",
        "        return self.encoder(self.src_embed(src), src_mask)\n",
        "\n",
        "    def decode(self, memory, src_mask, tgt, tgt_mask):\n",
        "        return self.decoder(self.tgt_embed(tgt), memory, src_mask, tgt_mask)"
      ],
      "metadata": {
        "id": "skp9crB50bJk"
      },
      "execution_count": 3,
      "outputs": []
    },
    {
      "cell_type": "markdown",
      "source": [
        "**Fully Connected + Softmax Layer**"
      ],
      "metadata": {
        "id": "15xNTm2t8zTA"
      }
    },
    {
      "cell_type": "code",
      "source": [
        "class Generator(nn.Module):\n",
        "    \"Define standard linear + softmax generation step.\"\n",
        "\n",
        "    def __init__(self, d_model, vocab):\n",
        "        super(Generator, self).__init__()\n",
        "        self.proj = nn.Linear(d_model, vocab)\n",
        "\n",
        "    def forward(self, x):\n",
        "        return log_softmax(self.proj(x), dim=-1)"
      ],
      "metadata": {
        "id": "Qsw3FSxH8rxX"
      },
      "execution_count": 4,
      "outputs": []
    },
    {
      "cell_type": "markdown",
      "source": [
        "Because the Ecoder and Decoder consist of N identical layers this method creates copy of modules:"
      ],
      "metadata": {
        "id": "paD6UeyiGSTZ"
      }
    },
    {
      "cell_type": "code",
      "source": [
        "import copy\n",
        "\n",
        "\n",
        "def clones(module, N):\n",
        "    \"Produce N identical layers.\"\n",
        "    return nn.ModuleList([copy.deepcopy(module) for _ in range(N)])\n"
      ],
      "metadata": {
        "id": "mgUZ2egbGRUy"
      },
      "execution_count": 5,
      "outputs": []
    },
    {
      "cell_type": "markdown",
      "source": [
        "# **Encoder**"
      ],
      "metadata": {
        "id": "TVFbPi5G9CXj"
      }
    },
    {
      "cell_type": "markdown",
      "source": [
        "**Encoder Module**\n",
        "\n",
        "The encoder layer is a stack of N (in this case 6) Encoder Layer Modules.\n"
      ],
      "metadata": {
        "id": "vcvPs7eMIa4Y"
      }
    },
    {
      "cell_type": "code",
      "source": [
        "class Encoder(nn.Module):\n",
        "    \"Core encoder is a stack of N layers\"\n",
        "\n",
        "    def __init__(self, layer, N):\n",
        "        super(Encoder, self).__init__()\n",
        "        self.layers = clones(layer, N)\n",
        "        self.norm = LayerNorm(layer.size)\n",
        "\n",
        "    def forward(self, x, mask):\n",
        "        \"Pass the input (and mask) through each layer in turn.\"\n",
        "        for layer in self.layers:\n",
        "            x = layer(x, mask)\n",
        "        return self.norm(x)"
      ],
      "metadata": {
        "id": "pOqICLkeIZ0w"
      },
      "execution_count": 6,
      "outputs": []
    },
    {
      "cell_type": "markdown",
      "source": [
        "Layer Normalization maintains the mean activation within each example close to 0 and the activation standard deviation close to 1.\n",
        "\n",
        "Layer Normalization is applied on a per sample frequency as opposed to Batch Normalization which is applied per batch."
      ],
      "metadata": {
        "id": "EJem6kWSEzgD"
      }
    },
    {
      "cell_type": "code",
      "source": [
        "\n",
        "class LayerNorm(nn.Module):\n",
        "    \"Construct a layernorm module (See citation for details).\"\n",
        "\n",
        "    def __init__(self, features, eps=1e-6):\n",
        "        super(LayerNorm, self).__init__()\n",
        "        self.a_2 = nn.Parameter(torch.ones(features))\n",
        "        self.b_2 = nn.Parameter(torch.zeros(features))\n",
        "        self.eps = eps\n",
        "\n",
        "    def forward(self, x):\n",
        "        mean = x.mean(-1, keepdim=True)\n",
        "        std = x.std(-1, keepdim=True)\n",
        "        return self.a_2 * (x - mean) / (std + self.eps) + self.b_2"
      ],
      "metadata": {
        "id": "bhnEYsY6CdwM"
      },
      "execution_count": 7,
      "outputs": []
    },
    {
      "cell_type": "markdown",
      "source": [
        "This sublayer connection module applies a ResNet style residual connection between the current and previous layers.\n",
        "\n",
        "Additionally, dropout is applied to each connection to prevent overfitting.\n",
        "\n",
        "To facilitate these residual connections, all sub-layers in the model, as well as the embedding layers, produce outputs of 512 dimensions."
      ],
      "metadata": {
        "id": "2IdoV4R1DgcC"
      }
    },
    {
      "cell_type": "code",
      "source": [
        "class SublayerConnection(nn.Module):\n",
        "    \"\"\"\n",
        "    A residual connection followed by a layer norm.\n",
        "    Note for code simplicity the norm is first as opposed to last.\n",
        "    \"\"\"\n",
        "\n",
        "    def __init__(self, size, dropout):\n",
        "        super(SublayerConnection, self).__init__()\n",
        "        self.norm = LayerNorm(size)\n",
        "        self.dropout = nn.Dropout(dropout)\n",
        "\n",
        "    def forward(self, x, sublayer):\n",
        "        \"Apply residual connection to any sublayer with the same size.\"\n",
        "        return x + self.dropout(sublayer(self.norm(x)))"
      ],
      "metadata": {
        "id": "cB7TDYGEB2Qj"
      },
      "execution_count": 8,
      "outputs": []
    },
    {
      "cell_type": "code",
      "source": [
        "class EncoderLayer(nn.Module):\n",
        "    \"Encoder is made up of self-attn and feed forward (defined below)\"\n",
        "\n",
        "    def __init__(self, size, self_attn, feed_forward, dropout):\n",
        "        super(EncoderLayer, self).__init__()\n",
        "        self.self_attn = self_attn\n",
        "        self.feed_forward = feed_forward\n",
        "        self.sublayer = clones(SublayerConnection(size, dropout), 2)\n",
        "        self.size = size\n",
        "\n",
        "    def forward(self, x, mask):\n",
        "        \"Follow Figure 1 (left) for connections.\"\n",
        "        x = self.sublayer[0](x, lambda x: self.self_attn(x, x, x, mask))\n",
        "        return self.sublayer[1](x, self.feed_forward)"
      ],
      "metadata": {
        "id": "tef-ngE_Nzmo"
      },
      "execution_count": 9,
      "outputs": []
    },
    {
      "cell_type": "markdown",
      "source": [
        "# **Decoder**"
      ],
      "metadata": {
        "id": "5nudixDC-WbP"
      }
    },
    {
      "cell_type": "markdown",
      "source": [
        "The decoder layeris very similar to the encoder layer with the addition of two modules:\n",
        "\n",
        "\n",
        "1.   A masking module that prevents the model's self-attention mechanism from cheating. This is done by masking future positions (setting them to -0) before the softmax step in the self-attention calculation.\n",
        "\n",
        "2.   An additional Attention module(Encoder/Decoder Attention) where the output of the top encoder is then transformed into a set of attention vectors K and V. These are to be used by each decoder in its “encoder-decoder attention” layer which helps the decoder focus on appropriate places in the input sequence.\n",
        "\n"
      ],
      "metadata": {
        "id": "4fOq_dfpBL89"
      }
    },
    {
      "cell_type": "code",
      "source": [
        "class Decoder(nn.Module):\n",
        "    \"Generic N layer decoder with masking.\"\n",
        "\n",
        "    def __init__(self, layer, N):\n",
        "        super(Decoder, self).__init__()\n",
        "        self.layers = clones(layer, N)\n",
        "        self.norm = LayerNorm(layer.size)\n",
        "\n",
        "    def forward(self, x, memory, src_mask, tgt_mask):\n",
        "        for layer in self.layers:\n",
        "            x = layer(x, memory, src_mask, tgt_mask)\n",
        "        return self.norm(x)"
      ],
      "metadata": {
        "id": "DgcTWwBoCqP9"
      },
      "execution_count": 10,
      "outputs": []
    },
    {
      "cell_type": "code",
      "source": [
        "class DecoderLayer(nn.Module):\n",
        "    \"Decoder is made of self-attn, src-attn, and feed forward (defined below)\"\n",
        "\n",
        "    def __init__(self, size, self_attn, src_attn, feed_forward, dropout):\n",
        "        super(DecoderLayer, self).__init__()\n",
        "        self.size = size\n",
        "        self.self_attn = self_attn\n",
        "        self.src_attn = src_attn\n",
        "        self.feed_forward = feed_forward\n",
        "        self.sublayer = clones(SublayerConnection(size, dropout), 3)\n",
        "\n",
        "    def forward(self, x, memory, src_mask, tgt_mask):\n",
        "        \"Follow Figure 1 (right) for connections.\"\n",
        "        m = memory\n",
        "        x = self.sublayer[0](x, lambda x: self.self_attn(x, x, x, tgt_mask))\n",
        "        x = self.sublayer[1](x, lambda x: self.src_attn(x, m, m, src_mask))\n",
        "        return self.sublayer[2](x, self.feed_forward)"
      ],
      "metadata": {
        "id": "0b_9W-juJUVk"
      },
      "execution_count": 11,
      "outputs": []
    },
    {
      "cell_type": "markdown",
      "source": [
        "#**Attention**"
      ],
      "metadata": {
        "id": "GhVz4TFGllI-"
      }
    },
    {
      "cell_type": "markdown",
      "source": [
        "This Transformer implements Scaled Dot-Product Attention.\n",
        "\n",
        "An attention function can be described as mapping a query and a set of key-value pairs to an output, where the query, keys, values, and output are all vectors. The output is computed as a weighted sum of the values, where the weight assigned to each value is computed by a compatibility function of the query with the corresponding key.\n",
        "\n",
        "We call our particular attention “Scaled Dot-Product Attention”. The input consists of vectors of queries and keys​, and values​ (For paralelization purposes these vectors are stacked into matrices, but the math still works out as long as the deminsions make sense). We compute the dot products of the query with all keys, divide each by the dimentsion of the key vector​, and apply a softmax function (with the number of classes equal to the dimension of the values vector). While the Query and Key Matrices are high dimensional, the value matrix reduces the dimensions (in our case from 512 to 64).\n",
        "\n",
        "\n"
      ],
      "metadata": {
        "id": "VC_1Bd0NnDcH"
      }
    },
    {
      "cell_type": "code",
      "source": [
        "import math\n",
        "\n",
        "def attention(query, key, value, mask=None, dropout=None):\n",
        "    \"Compute 'Scaled Dot Product Attention'\"\n",
        "    d_k = query.size(-1)\n",
        "    scores = torch.matmul(query, key.transpose(-2, -1)) / math.sqrt(d_k)\n",
        "    if mask is not None:\n",
        "        scores = scores.masked_fill(mask == 0, -1e9)\n",
        "    p_attn = scores.softmax(dim=-1)\n",
        "    if dropout is not None:\n",
        "        p_attn = dropout(p_attn)\n",
        "    return torch.matmul(p_attn, value), p_attn"
      ],
      "metadata": {
        "id": "qECL0FZElrt9"
      },
      "execution_count": 12,
      "outputs": []
    },
    {
      "cell_type": "markdown",
      "source": [
        "**MultiHead Attention**"
      ],
      "metadata": {
        "id": "wuLDJE8HT-Tq"
      }
    },
    {
      "cell_type": "markdown",
      "source": [
        "![Multihead.png](data:image/png;base64,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)"
      ],
      "metadata": {
        "id": "JPP-fOiBTt-p"
      }
    },
    {
      "cell_type": "code",
      "source": [
        "class MultiHeadedAttention(nn.Module):\n",
        "    def __init__(self, h, d_model, dropout=0.1):\n",
        "        \"Take in model size and number of heads.\"\n",
        "        super(MultiHeadedAttention, self).__init__()\n",
        "        assert d_model % h == 0\n",
        "        # We assume d_v always equals d_k\n",
        "        self.d_k = d_model // h\n",
        "        self.h = h\n",
        "        self.linears = clones(nn.Linear(d_model, d_model), 4)\n",
        "        self.attn = None\n",
        "        self.dropout = nn.Dropout(p=dropout)\n",
        "\n",
        "    def forward(self, query, key, value, mask=None):\n",
        "        \"Implements Figure 2\"\n",
        "        if mask is not None:\n",
        "            # Same mask applied to all h heads.\n",
        "            mask = mask.unsqueeze(1)\n",
        "        nbatches = query.size(0)\n",
        "\n",
        "        # 1) Do all the linear projections in batch from d_model => h x d_k\n",
        "        query, key, value = [\n",
        "            lin(x).view(nbatches, -1, self.h, self.d_k).transpose(1, 2)\n",
        "            for lin, x in zip(self.linears, (query, key, value))\n",
        "        ]\n",
        "\n",
        "        # 2) Apply attention on all the projected vectors in batch.\n",
        "        x, self.attn = attention(\n",
        "            query, key, value, mask=mask, dropout=self.dropout\n",
        "        )\n",
        "\n",
        "        # 3) \"Concat\" using a view and apply a final linear.\n",
        "        x = (\n",
        "            x.transpose(1, 2)\n",
        "            .contiguous()\n",
        "            .view(nbatches, -1, self.h * self.d_k)\n",
        "        )\n",
        "        del query\n",
        "        del key\n",
        "        del value\n",
        "        return self.linears[-1](x)"
      ],
      "metadata": {
        "id": "cHA3rcXZwkVz"
      },
      "execution_count": 13,
      "outputs": []
    },
    {
      "cell_type": "markdown",
      "source": [
        "# **Embeddings**"
      ],
      "metadata": {
        "id": "yFPrBFs4Ssly"
      }
    },
    {
      "cell_type": "code",
      "source": [
        "class Embeddings(nn.Module):\n",
        "    def __init__(self, d_model, vocab):\n",
        "        super(Embeddings, self).__init__()\n",
        "        self.lut = nn.Embedding(vocab, d_model)\n",
        "        self.d_model = d_model\n",
        "\n",
        "    def forward(self, x):\n",
        "        return self.lut(x) * math.sqrt(self.d_model)\n",
        "\n"
      ],
      "metadata": {
        "id": "vdNUcVQ8zEPr"
      },
      "execution_count": 14,
      "outputs": []
    },
    {
      "cell_type": "markdown",
      "source": [
        "# **Positional Encoding**"
      ],
      "metadata": {
        "id": "ARmjS7IHzp3n"
      }
    },
    {
      "cell_type": "markdown",
      "source": [
        "In short, Positional Encoding applies a function (in this case either a sine or cosine depending on the dimension of the embedding vector that is being encoded) that is dependent on both the position of the embedding in the input sentence as well as the deminsion of the embedding vector being encoded.\n",
        "\n",
        "note: the registerr bugger code at the bottom of the initializer lets torch know not to perform backprop and gradient descent on this module but rather to treeat it as a \"static' function."
      ],
      "metadata": {
        "id": "bbtknA2M1kDH"
      }
    },
    {
      "cell_type": "code",
      "source": [
        "class PositionalEncoding(nn.Module):\n",
        "    \"Implement the PE function.\"\n",
        "\n",
        "    def __init__(self, d_model, dropout, max_len=5000):\n",
        "        super(PositionalEncoding, self).__init__()\n",
        "        self.dropout = nn.Dropout(p=dropout)\n",
        "\n",
        "        # Compute the positional encodings once in log space.\n",
        "        pe = torch.zeros(max_len, d_model)\n",
        "        position = torch.arange(0, max_len).unsqueeze(1)\n",
        "        div_term = torch.exp(\n",
        "            torch.arange(0, d_model, 2) * -(math.log(10000.0) / d_model)\n",
        "        )\n",
        "        # Apply sin to even dimensions\n",
        "        pe[:, 0::2] = torch.sin(position * div_term)\n",
        "        # Apply cos to odd ones\n",
        "        pe[:, 1::2] = torch.cos(position * div_term)\n",
        "        pe = pe.unsqueeze(0)\n",
        "        self.register_buffer(\"pe\", pe)\n",
        "\n",
        "    def forward(self, x):\n",
        "        x = x + self.pe[:, : x.size(1)].requires_grad_(False)\n",
        "        return self.dropout(x)"
      ],
      "metadata": {
        "id": "3BQDjsxAzvZ7"
      },
      "execution_count": 15,
      "outputs": []
    },
    {
      "cell_type": "markdown",
      "source": [
        "The illustration below shows how this function performs a consistent transformation based on the position and dimension of a value in an embedding sequence. *Encoding* the *Position* of he value, hence the name."
      ],
      "metadata": {
        "id": "AxTCHXlL8Sof"
      }
    },
    {
      "cell_type": "code",
      "source": [
        "def example_positional():\n",
        "    pe = PositionalEncoding(20, 0)\n",
        "    y = pe.forward(torch.zeros(1, 100, 20))\n",
        "\n",
        "    data = pd.concat(\n",
        "        [\n",
        "            pd.DataFrame(\n",
        "                {\n",
        "                    \"embedding\": y[0, :, dim],\n",
        "                    \"dimension\": dim,\n",
        "                    \"position\": list(range(100)),\n",
        "                }\n",
        "            )\n",
        "            for dim in [4, 5, 6, 7]\n",
        "        ]\n",
        "    )\n",
        "\n",
        "    return (\n",
        "        alt.Chart(data)\n",
        "        .mark_line()\n",
        "        .properties(width=800)\n",
        "        .encode(x=\"position\", y=\"embedding\", color=\"dimension:N\")\n",
        "        .interactive()\n",
        "    )\n",
        "\n",
        "\n",
        "show_example(example_positional)"
      ],
      "metadata": {
        "colab": {
          "base_uri": "https://localhost:8080/",
          "height": 368
        },
        "id": "2BSZxFR960Tq",
        "outputId": "62d4b52c-f791-4089-8269-a8c89df302cb"
      },
      "execution_count": 20,
      "outputs": [
        {
          "output_type": "execute_result",
          "data": {
            "text/html": [
              "\n",
              "<div id=\"altair-viz-d293efa6e1ca44a1842098bb35aed5d6\"></div>\n",
              "<script type=\"text/javascript\">\n",
              "  var VEGA_DEBUG = (typeof VEGA_DEBUG == \"undefined\") ? {} : VEGA_DEBUG;\n",
              "  (function(spec, embedOpt){\n",
              "    let outputDiv = document.currentScript.previousElementSibling;\n",
              "    if (outputDiv.id !== \"altair-viz-d293efa6e1ca44a1842098bb35aed5d6\") {\n",
              "      outputDiv = document.getElementById(\"altair-viz-d293efa6e1ca44a1842098bb35aed5d6\");\n",
              "    }\n",
              "    const paths = {\n",
              "      \"vega\": \"https://cdn.jsdelivr.net/npm//vega@5?noext\",\n",
              "      \"vega-lib\": \"https://cdn.jsdelivr.net/npm//vega-lib?noext\",\n",
              "      \"vega-lite\": \"https://cdn.jsdelivr.net/npm//vega-lite@4.17.0?noext\",\n",
              "      \"vega-embed\": \"https://cdn.jsdelivr.net/npm//vega-embed@6?noext\",\n",
              "    };\n",
              "\n",
              "    function maybeLoadScript(lib, version) {\n",
              "      var key = `${lib.replace(\"-\", \"\")}_version`;\n",
              "      return (VEGA_DEBUG[key] == version) ?\n",
              "        Promise.resolve(paths[lib]) :\n",
              "        new Promise(function(resolve, reject) {\n",
              "          var s = document.createElement('script');\n",
              "          document.getElementsByTagName(\"head\")[0].appendChild(s);\n",
              "          s.async = true;\n",
              "          s.onload = () => {\n",
              "            VEGA_DEBUG[key] = version;\n",
              "            return resolve(paths[lib]);\n",
              "          };\n",
              "          s.onerror = () => reject(`Error loading script: ${paths[lib]}`);\n",
              "          s.src = paths[lib];\n",
              "        });\n",
              "    }\n",
              "\n",
              "    function showError(err) {\n",
              "      outputDiv.innerHTML = `<div class=\"error\" style=\"color:red;\">${err}</div>`;\n",
              "      throw err;\n",
              "    }\n",
              "\n",
              "    function displayChart(vegaEmbed) {\n",
              "      vegaEmbed(outputDiv, spec, embedOpt)\n",
              "        .catch(err => showError(`Javascript Error: ${err.message}<br>This usually means there's a typo in your chart specification. See the javascript console for the full traceback.`));\n",
              "    }\n",
              "\n",
              "    if(typeof define === \"function\" && define.amd) {\n",
              "      requirejs.config({paths});\n",
              "      require([\"vega-embed\"], displayChart, err => showError(`Error loading script: ${err.message}`));\n",
              "    } else {\n",
              "      maybeLoadScript(\"vega\", \"5\")\n",
              "        .then(() => maybeLoadScript(\"vega-lite\", \"4.17.0\"))\n",
              "        .then(() => maybeLoadScript(\"vega-embed\", \"6\"))\n",
              "        .catch(showError)\n",
              "        .then(() => displayChart(vegaEmbed));\n",
              "    }\n",
              "  })({\"config\": {\"view\": {\"continuousWidth\": 400, \"continuousHeight\": 300}}, \"data\": {\"name\": \"data-eafc635ddfa311c913cbcc2d2bc4477d\"}, \"mark\": \"line\", \"encoding\": {\"color\": {\"field\": \"dimension\", \"type\": \"nominal\"}, \"x\": {\"field\": \"position\", \"type\": \"quantitative\"}, \"y\": {\"field\": \"embedding\", \"type\": \"quantitative\"}}, \"selection\": {\"selector002\": {\"type\": \"interval\", \"bind\": \"scales\", \"encodings\": [\"x\", \"y\"]}}, \"width\": 800, \"$schema\": \"https://vega.github.io/schema/vega-lite/v4.17.0.json\", \"datasets\": {\"data-eafc635ddfa311c913cbcc2d2bc4477d\": [{\"embedding\": 0.0, \"dimension\": 4, \"position\": 0}, {\"embedding\": 0.15782663226127625, \"dimension\": 4, \"position\": 1}, {\"embedding\": 0.3116971552371979, \"dimension\": 4, \"position\": 2}, {\"embedding\": 0.45775455236434937, \"dimension\": 4, \"position\": 3}, {\"embedding\": 0.5923377275466919, \"dimension\": 4, \"position\": 4}, {\"embedding\": 0.7120732069015503, \"dimension\": 4, \"position\": 5}, {\"embedding\": 0.813959538936615, \"dimension\": 4, \"position\": 6}, {\"embedding\": 0.8954429626464844, \"dimension\": 4, \"position\": 7}, {\"embedding\": 0.9544808864593506, \"dimension\": 4, \"position\": 8}, {\"embedding\": 0.989593505859375, \"dimension\": 4, \"position\": 9}, {\"embedding\": 0.9999006390571594, \"dimension\": 4, \"position\": 10}, {\"embedding\": 0.9851439595222473, \"dimension\": 4, \"position\": 11}, {\"embedding\": 0.94569331407547, \"dimension\": 4, \"position\": 12}, {\"embedding\": 0.8825376033782959, \"dimension\": 4, \"position\": 13}, {\"embedding\": 0.7972599267959595, \"dimension\": 4, \"position\": 14}, {\"embedding\": 0.6919978260993958, \"dimension\": 4, \"position\": 15}, {\"embedding\": 0.5693899393081665, \"dimension\": 4, \"position\": 16}, {\"embedding\": 0.4325096309185028, \"dimension\": 4, \"position\": 17}, {\"embedding\": 0.284787654876709, \"dimension\": 4, \"position\": 18}, {\"embedding\": 0.12992730736732483, \"dimension\": 4, \"position\": 19}, {\"embedding\": -0.028190065175294876, \"dimension\": 4, \"position\": 20}, {\"embedding\": -0.18560057878494263, \"dimension\": 4, \"position\": 21}, {\"embedding\": -0.3383587896823883, \"dimension\": 4, \"position\": 22}, {\"embedding\": -0.4826357960700989, \"dimension\": 4, \"position\": 23}, {\"embedding\": -0.6148146390914917, \"dimension\": 4, \"position\": 24}, {\"embedding\": -0.7315824031829834, \"dimension\": 4, \"position\": 25}, {\"embedding\": -0.8300122618675232, \"dimension\": 4, \"position\": 26}, {\"embedding\": -0.9076365828514099, \"dimension\": 4, \"position\": 27}, {\"embedding\": -0.96250981092453, \"dimension\": 4, \"position\": 28}, {\"embedding\": -0.9932565093040466, \"dimension\": 4, \"position\": 29}, {\"embedding\": -0.9991058707237244, \"dimension\": 4, \"position\": 30}, {\"embedding\": -0.9799113273620605, \"dimension\": 4, \"position\": 31}, {\"embedding\": -0.9361540079116821, \"dimension\": 4, \"position\": 32}, {\"embedding\": -0.8689308166503906, \"dimension\": 4, \"position\": 33}, {\"embedding\": -0.7799267172813416, \"dimension\": 4, \"position\": 34}, {\"embedding\": -0.6713724136352539, \"dimension\": 4, \"position\": 35}, {\"embedding\": -0.5459895133972168, \"dimension\": 4, \"position\": 36}, {\"embedding\": -0.40692076086997986, \"dimension\": 4, \"position\": 37}, {\"embedding\": -0.2576519548892975, \"dimension\": 4, \"position\": 38}, {\"embedding\": -0.10192479938268661, \"dimension\": 4, \"position\": 39}, {\"embedding\": 0.056357722729444504, \"dimension\": 4, \"position\": 40}, {\"embedding\": 0.21322709321975708, \"dimension\": 4, \"position\": 41}, {\"embedding\": 0.3647516369819641, \"dimension\": 4, \"position\": 42}, {\"embedding\": 0.5071332454681396, \"dimension\": 4, \"position\": 43}, {\"embedding\": 0.6368028521537781, \"dimension\": 4, \"position\": 44}, {\"embedding\": 0.7505101561546326, \"dimension\": 4, \"position\": 45}, {\"embedding\": 0.8454052805900574, \"dimension\": 4, \"position\": 46}, {\"embedding\": 0.9191088080406189, \"dimension\": 4, \"position\": 47}, {\"embedding\": 0.9697737693786621, \"dimension\": 4, \"position\": 48}, {\"embedding\": 0.9961300492286682, \"dimension\": 4, \"position\": 49}, {\"embedding\": 0.9975170493125916, \"dimension\": 4, \"position\": 50}, {\"embedding\": 0.9738998413085938, \"dimension\": 4, \"position\": 51}, {\"embedding\": 0.9258706569671631, \"dimension\": 4, \"position\": 52}, {\"embedding\": 0.8546332716941833, \"dimension\": 4, \"position\": 53}, {\"embedding\": 0.7619734406471252, \"dimension\": 4, \"position\": 54}, {\"embedding\": 0.6502137184143066, \"dimension\": 4, \"position\": 55}, {\"embedding\": 0.5221555233001709, \"dimension\": 4, \"position\": 56}, {\"embedding\": 0.38100889325141907, \"dimension\": 4, \"position\": 57}, {\"embedding\": 0.23031172156333923, \"dimension\": 4, \"position\": 58}, {\"embedding\": 0.07384055852890015, \"dimension\": 4, \"position\": 59}, {\"embedding\": -0.08448058366775513, \"dimension\": 4, \"position\": 60}, {\"embedding\": -0.2406841218471527, \"dimension\": 4, \"position\": 61}, {\"embedding\": -0.3908545970916748, \"dimension\": 4, \"position\": 62}, {\"embedding\": -0.5312277674674988, \"dimension\": 4, \"position\": 63}, {\"embedding\": -0.6582850813865662, \"dimension\": 4, \"position\": 64}, {\"embedding\": -0.768841564655304, \"dimension\": 4, \"position\": 65}, {\"embedding\": -0.8601260781288147, \"dimension\": 4, \"position\": 66}, {\"embedding\": -0.9298503994941711, \"dimension\": 4, \"position\": 67}, {\"embedding\": -0.9762668013572693, \"dimension\": 4, \"position\": 68}, {\"embedding\": -0.9982118010520935, \"dimension\": 4, \"position\": 69}, {\"embedding\": -0.9951352477073669, \"dimension\": 4, \"position\": 70}, {\"embedding\": -0.967114269733429, \"dimension\": 4, \"position\": 71}, {\"embedding\": -0.9148513078689575, \"dimension\": 4, \"position\": 72}, {\"embedding\": -0.839656412601471, \"dimension\": 4, \"position\": 73}, {\"embedding\": -0.7434144616127014, \"dimension\": 4, \"position\": 74}, {\"embedding\": -0.6285378336906433, \"dimension\": 4, \"position\": 75}, {\"embedding\": -0.4979061186313629, \"dimension\": 4, \"position\": 76}, {\"embedding\": -0.3547937273979187, \"dimension\": 4, \"position\": 77}, {\"embedding\": -0.20278796553611755, \"dimension\": 4, \"position\": 78}, {\"embedding\": -0.04569905996322632, \"dimension\": 4, \"position\": 79}, {\"embedding\": 0.11253630369901657, \"dimension\": 4, \"position\": 80}, {\"embedding\": 0.2679498493671417, \"dimension\": 4, \"position\": 81}, {\"embedding\": 0.4166468679904938, \"dimension\": 4, \"position\": 82}, {\"embedding\": 0.5549001097679138, \"dimension\": 4, \"position\": 83}, {\"embedding\": 0.6792440414428711, \"dimension\": 4, \"position\": 84}, {\"embedding\": 0.7865618467330933, \"dimension\": 4, \"position\": 85}, {\"embedding\": 0.8741634488105774, \"dimension\": 4, \"position\": 86}, {\"embedding\": 0.9398530125617981, \"dimension\": 4, \"position\": 87}, {\"embedding\": 0.9819839596748352, \"dimension\": 4, \"position\": 88}, {\"embedding\": 0.9995002150535583, \"dimension\": 4, \"position\": 89}, {\"embedding\": 0.9919626712799072, \"dimension\": 4, \"position\": 90}, {\"embedding\": 0.959559977054596, \"dimension\": 4, \"position\": 91}, {\"embedding\": 0.903104841709137, \"dimension\": 4, \"position\": 92}, {\"embedding\": 0.8240122199058533, \"dimension\": 4, \"position\": 93}, {\"embedding\": 0.7242646217346191, \"dimension\": 4, \"position\": 94}, {\"embedding\": 0.6063624024391174, \"dimension\": 4, \"position\": 95}, {\"embedding\": 0.4732609689235687, \"dimension\": 4, \"position\": 96}, {\"embedding\": 0.32829657196998596, \"dimension\": 4, \"position\": 97}, {\"embedding\": 0.17510302364826202, \"dimension\": 4, \"position\": 98}, {\"embedding\": 0.01752028614282608, \"dimension\": 4, \"position\": 99}, {\"embedding\": 1.0, \"dimension\": 5, \"position\": 0}, {\"embedding\": 0.9874668121337891, \"dimension\": 5, \"position\": 1}, {\"embedding\": 0.9501814842224121, \"dimension\": 5, \"position\": 2}, {\"embedding\": 0.8890786170959473, \"dimension\": 5, \"position\": 3}, {\"embedding\": 0.8056897521018982, \"dimension\": 5, \"position\": 4}, {\"embedding\": 0.7021052241325378, \"dimension\": 5, \"position\": 5}, {\"embedding\": 0.5809215903282166, \"dimension\": 5, \"position\": 6}, {\"embedding\": 0.44517630338668823, \"dimension\": 5, \"position\": 7}, {\"embedding\": 0.2982720732688904, \"dimension\": 5, \"position\": 8}, {\"embedding\": 0.14389123022556305, \"dimension\": 5, \"position\": 9}, {\"embedding\": -0.01409643329679966, \"dimension\": 5, \"position\": 10}, {\"embedding\": -0.1717306226491928, \"dimension\": 5, \"position\": 11}, {\"embedding\": -0.32506027817726135, \"dimension\": 5, \"position\": 12}, {\"embedding\": -0.47024187445640564, \"dimension\": 5, \"position\": 13}, {\"embedding\": -0.6036361455917358, \"dimension\": 5, \"position\": 14}, {\"embedding\": -0.7218996286392212, \"dimension\": 5, \"position\": 15}, {\"embedding\": -0.8220675587654114, \"dimension\": 5, \"position\": 16}, {\"embedding\": -0.9016293287277222, \"dimension\": 5, \"position\": 17}, {\"embedding\": -0.9585906267166138, \"dimension\": 5, \"position\": 18}, {\"embedding\": -0.9915235042572021, \"dimension\": 5, \"position\": 19}, {\"embedding\": -0.9996025562286377, \"dimension\": 5, \"position\": 20}, {\"embedding\": -0.9826252460479736, \"dimension\": 5, \"position\": 21}, {\"embedding\": -0.941017210483551, \"dimension\": 5, \"position\": 22}, {\"embedding\": -0.8758211731910706, \"dimension\": 5, \"position\": 23}, {\"embedding\": -0.788671612739563, \"dimension\": 5, \"position\": 24}, {\"embedding\": -0.6817529797554016, \"dimension\": 5, \"position\": 25}, {\"embedding\": -0.5577451586723328, \"dimension\": 5, \"position\": 26}, {\"embedding\": -0.4197568893432617, \"dimension\": 5, \"position\": 27}, {\"embedding\": -0.27124688029289246, \"dimension\": 5, \"position\": 28}, {\"embedding\": -0.11593768745660782, \"dimension\": 5, \"position\": 29}, {\"embedding\": 0.042278096079826355, \"dimension\": 5, \"position\": 30}, {\"embedding\": 0.19943365454673767, \"dimension\": 5, \"position\": 31}, {\"embedding\": 0.3515901565551758, \"dimension\": 5, \"position\": 32}, {\"embedding\": 0.4949335753917694, \"dimension\": 5, \"position\": 33}, {\"embedding\": 0.6258708238601685, \"dimension\": 5, \"position\": 34}, {\"embedding\": 0.7411201596260071, \"dimension\": 5, \"position\": 35}, {\"embedding\": 0.8377919793128967, \"dimension\": 5, \"position\": 36}, {\"embedding\": 0.9134634733200073, \"dimension\": 5, \"position\": 37}, {\"embedding\": 0.9662377834320068, \"dimension\": 5, \"position\": 38}, {\"embedding\": 0.994792103767395, \"dimension\": 5, \"position\": 39}, {\"embedding\": 0.9984106421470642, \"dimension\": 5, \"position\": 40}, {\"embedding\": 0.9770026803016663, \"dimension\": 5, \"position\": 41}, {\"embedding\": 0.931104838848114, \"dimension\": 5, \"position\": 42}, {\"embedding\": 0.8618676662445068, \"dimension\": 5, \"position\": 43}, {\"embedding\": 0.7710266709327698, \"dimension\": 5, \"position\": 44}, {\"embedding\": 0.6608588695526123, \"dimension\": 5, \"position\": 45}, {\"embedding\": 0.5341253876686096, \"dimension\": 5, \"position\": 46}, {\"embedding\": 0.3940037488937378, \"dimension\": 5, \"position\": 47}, {\"embedding\": 0.24400585889816284, \"dimension\": 5, \"position\": 48}, {\"embedding\": 0.08789165318012238, \"dimension\": 5, \"position\": 49}, {\"embedding\": -0.07042567431926727, \"dimension\": 5, \"position\": 50}, {\"embedding\": -0.2269781529903412, \"dimension\": 5, \"position\": 51}, {\"embedding\": -0.37784066796302795, \"dimension\": 5, \"position\": 52}, {\"embedding\": -0.5192320942878723, \"dimension\": 5, \"position\": 53}, {\"embedding\": -0.6476082801818848, \"dimension\": 5, \"position\": 54}, {\"embedding\": -0.7597513794898987, \"dimension\": 5, \"position\": 55}, {\"embedding\": -0.8528502583503723, \"dimension\": 5, \"position\": 56}, {\"embedding\": -0.9245713949203491, \"dimension\": 5, \"position\": 57}, {\"embedding\": -0.973116934299469, \"dimension\": 5, \"position\": 58}, {\"embedding\": -0.9972700476646423, \"dimension\": 5, \"position\": 59}, {\"embedding\": -0.9964250922203064, \"dimension\": 5, \"position\": 60}, {\"embedding\": -0.9706035256385803, \"dimension\": 5, \"position\": 61}, {\"embedding\": -0.9204524159431458, \"dimension\": 5, \"position\": 62}, {\"embedding\": -0.8472290635108948, \"dimension\": 5, \"position\": 63}, {\"embedding\": -0.7527687549591064, \"dimension\": 5, \"position\": 64}, {\"embedding\": -0.6394393444061279, \"dimension\": 5, \"position\": 65}, {\"embedding\": -0.5100815296173096, \"dimension\": 5, \"position\": 66}, {\"embedding\": -0.3679378628730774, \"dimension\": 5, \"position\": 67}, {\"embedding\": -0.2165713608264923, \"dimension\": 5, \"position\": 68}, {\"embedding\": -0.05977622792124748, \"dimension\": 5, \"position\": 69}, {\"embedding\": 0.09851823002099991, \"dimension\": 5, \"position\": 70}, {\"embedding\": 0.254342257976532, \"dimension\": 5, \"position\": 71}, {\"embedding\": 0.4037908613681793, \"dimension\": 5, \"position\": 72}, {\"embedding\": 0.543117880821228, \"dimension\": 5, \"position\": 73}, {\"embedding\": 0.6688309907913208, \"dimension\": 5, \"position\": 74}, {\"embedding\": 0.7777789831161499, \"dimension\": 5, \"position\": 75}, {\"embedding\": 0.8672309517860413, \"dimension\": 5, \"position\": 76}, {\"embedding\": 0.9349446296691895, \"dimension\": 5, \"position\": 77}, {\"embedding\": 0.9792226552963257, \"dimension\": 5, \"position\": 78}, {\"embedding\": 0.998955249786377, \"dimension\": 5, \"position\": 79}, {\"embedding\": 0.9936476349830627, \"dimension\": 5, \"position\": 80}, {\"embedding\": 0.9634328484535217, \"dimension\": 5, \"position\": 81}, {\"embedding\": 0.9090684056282043, \"dimension\": 5, \"position\": 82}, {\"embedding\": 0.8319169878959656, \"dimension\": 5, \"position\": 83}, {\"embedding\": 0.733912467956543, \"dimension\": 5, \"position\": 84}, {\"embedding\": 0.617511510848999, \"dimension\": 5, \"position\": 85}, {\"embedding\": 0.4856317937374115, \"dimension\": 5, \"position\": 86}, {\"embedding\": 0.3415791094303131, \"dimension\": 5, \"position\": 87}, {\"embedding\": 0.18896427750587463, \"dimension\": 5, \"position\": 88}, {\"embedding\": 0.0316128134727478, \"dimension\": 5, \"position\": 89}, {\"embedding\": -0.12653106451034546, \"dimension\": 5, \"position\": 90}, {\"embedding\": -0.28150418400764465, \"dimension\": 5, \"position\": 91}, {\"embedding\": -0.4294200837612152, \"dimension\": 5, \"position\": 92}, {\"embedding\": -0.5665720105171204, \"dimension\": 5, \"position\": 93}, {\"embedding\": -0.6895220875740051, \"dimension\": 5, \"position\": 94}, {\"embedding\": -0.7951884269714355, \"dimension\": 5, \"position\": 95}, {\"embedding\": -0.880922257900238, \"dimension\": 5, \"position\": 96}, {\"embedding\": -0.9445747137069702, \"dimension\": 5, \"position\": 97}, {\"embedding\": -0.9845501184463501, \"dimension\": 5, \"position\": 98}, {\"embedding\": -0.9998465180397034, \"dimension\": 5, \"position\": 99}, {\"embedding\": 0.0, \"dimension\": 6, \"position\": 0}, {\"embedding\": 0.06305388361215591, \"dimension\": 6, \"position\": 1}, {\"embedding\": 0.12585683166980743, \"dimension\": 6, \"position\": 2}, {\"embedding\": 0.18815888464450836, \"dimension\": 6, \"position\": 3}, {\"embedding\": 0.24971213936805725, \"dimension\": 6, \"position\": 4}, {\"embedding\": 0.31027159094810486, \"dimension\": 6, \"position\": 5}, {\"embedding\": 0.3695962131023407, \"dimension\": 6, \"position\": 6}, {\"embedding\": 0.4274499714374542, \"dimension\": 6, \"position\": 7}, {\"embedding\": 0.4836025834083557, \"dimension\": 6, \"position\": 8}, {\"embedding\": 0.5378305912017822, \"dimension\": 6, \"position\": 9}, {\"embedding\": 0.5899181365966797, \"dimension\": 6, \"position\": 10}, {\"embedding\": 0.6396579146385193, \"dimension\": 6, \"position\": 11}, {\"embedding\": 0.6868520379066467, \"dimension\": 6, \"position\": 12}, {\"embedding\": 0.7313126921653748, \"dimension\": 6, \"position\": 13}, {\"embedding\": 0.7728629112243652, \"dimension\": 6, \"position\": 14}, {\"embedding\": 0.8113372921943665, \"dimension\": 6, \"position\": 15}, {\"embedding\": 0.8465827703475952, \"dimension\": 6, \"position\": 16}, {\"embedding\": 0.8784590363502502, \"dimension\": 6, \"position\": 17}, {\"embedding\": 0.9068393111228943, \"dimension\": 6, \"position\": 18}, {\"embedding\": 0.9316105246543884, \"dimension\": 6, \"position\": 19}, {\"embedding\": 0.9526742100715637, \"dimension\": 6, \"position\": 20}, {\"embedding\": 0.9699464440345764, \"dimension\": 6, \"position\": 21}, {\"embedding\": 0.9833585619926453, \"dimension\": 6, \"position\": 22}, {\"embedding\": 0.9928570985794067, \"dimension\": 6, \"position\": 23}, {\"embedding\": 0.9984043836593628, \"dimension\": 6, \"position\": 24}, {\"embedding\": 0.999978244304657, \"dimension\": 6, \"position\": 25}, {\"embedding\": 0.9975724220275879, \"dimension\": 6, \"position\": 26}, {\"embedding\": 0.9911965131759644, \"dimension\": 6, \"position\": 27}, {\"embedding\": 0.9808759093284607, \"dimension\": 6, \"position\": 28}, {\"embedding\": 0.9666516780853271, \"dimension\": 6, \"position\": 29}, {\"embedding\": 0.9485803842544556, \"dimension\": 6, \"position\": 30}, {\"embedding\": 0.9267339110374451, \"dimension\": 6, \"position\": 31}, {\"embedding\": 0.9011994004249573, \"dimension\": 6, \"position\": 32}, {\"embedding\": 0.8720782399177551, \"dimension\": 6, \"position\": 33}, {\"embedding\": 0.8394865393638611, \"dimension\": 6, \"position\": 34}, {\"embedding\": 0.8035537600517273, \"dimension\": 6, \"position\": 35}, {\"embedding\": 0.7644230127334595, \"dimension\": 6, \"position\": 36}, {\"embedding\": 0.7222501039505005, \"dimension\": 6, \"position\": 37}, {\"embedding\": 0.6772029399871826, \"dimension\": 6, \"position\": 38}, {\"embedding\": 0.6294605135917664, \"dimension\": 6, \"position\": 39}, {\"embedding\": 0.57921302318573, \"dimension\": 6, \"position\": 40}, {\"embedding\": 0.5266605615615845, \"dimension\": 6, \"position\": 41}, {\"embedding\": 0.4720119535923004, \"dimension\": 6, \"position\": 42}, {\"embedding\": 0.41548484563827515, \"dimension\": 6, \"position\": 43}, {\"embedding\": 0.3573042154312134, \"dimension\": 6, \"position\": 44}, {\"embedding\": 0.29770180583000183, \"dimension\": 6, \"position\": 45}, {\"embedding\": 0.23691439628601074, \"dimension\": 6, \"position\": 46}, {\"embedding\": 0.17518411576747894, \"dimension\": 6, \"position\": 47}, {\"embedding\": 0.1127568930387497, \"dimension\": 6, \"position\": 48}, {\"embedding\": 0.04988069087266922, \"dimension\": 6, \"position\": 49}, {\"embedding\": -0.013194027356803417, \"dimension\": 6, \"position\": 50}, {\"embedding\": -0.07621623575687408, \"dimension\": 6, \"position\": 51}, {\"embedding\": -0.1389348804950714, \"dimension\": 6, \"position\": 52}, {\"embedding\": -0.20110084116458893, \"dimension\": 6, \"position\": 53}, {\"embedding\": -0.2624664604663849, \"dimension\": 6, \"position\": 54}, {\"embedding\": -0.3227875530719757, \"dimension\": 6, \"position\": 55}, {\"embedding\": -0.3818237781524658, \"dimension\": 6, \"position\": 56}, {\"embedding\": -0.4393406808376312, \"dimension\": 6, \"position\": 57}, {\"embedding\": -0.49510911107063293, \"dimension\": 6, \"position\": 58}, {\"embedding\": -0.5489069223403931, \"dimension\": 6, \"position\": 59}, {\"embedding\": -0.6005204319953918, \"dimension\": 6, \"position\": 60}, {\"embedding\": -0.6497439742088318, \"dimension\": 6, \"position\": 61}, {\"embedding\": -0.6963817477226257, \"dimension\": 6, \"position\": 62}, {\"embedding\": -0.7402478456497192, \"dimension\": 6, \"position\": 63}, {\"embedding\": -0.7811681628227234, \"dimension\": 6, \"position\": 64}, {\"embedding\": -0.8189795017242432, \"dimension\": 6, \"position\": 65}, {\"embedding\": -0.8535317182540894, \"dimension\": 6, \"position\": 66}, {\"embedding\": -0.8846868872642517, \"dimension\": 6, \"position\": 67}, {\"embedding\": -0.9123212099075317, \"dimension\": 6, \"position\": 68}, {\"embedding\": -0.936324954032898, \"dimension\": 6, \"position\": 69}, {\"embedding\": -0.956602156162262, \"dimension\": 6, \"position\": 70}, {\"embedding\": -0.9730724096298218, \"dimension\": 6, \"position\": 71}, {\"embedding\": -0.9856699705123901, \"dimension\": 6, \"position\": 72}, {\"embedding\": -0.9943448305130005, \"dimension\": 6, \"position\": 73}, {\"embedding\": -0.9990625381469727, \"dimension\": 6, \"position\": 74}, {\"embedding\": -0.9998041391372681, \"dimension\": 6, \"position\": 75}, {\"embedding\": -0.9965668320655823, \"dimension\": 6, \"position\": 76}, {\"embedding\": -0.9893633723258972, \"dimension\": 6, \"position\": 77}, {\"embedding\": -0.9782225489616394, \"dimension\": 6, \"position\": 78}, {\"embedding\": -0.963188648223877, \"dimension\": 6, \"position\": 79}, {\"embedding\": -0.9443213939666748, \"dimension\": 6, \"position\": 80}, {\"embedding\": -0.9216960668563843, \"dimension\": 6, \"position\": 81}, {\"embedding\": -0.8954026699066162, \"dimension\": 6, \"position\": 82}, {\"embedding\": -0.8655455708503723, \"dimension\": 6, \"position\": 83}, {\"embedding\": -0.8322440981864929, \"dimension\": 6, \"position\": 84}, {\"embedding\": -0.795630156993866, \"dimension\": 6, \"position\": 85}, {\"embedding\": -0.7558501362800598, \"dimension\": 6, \"position\": 86}, {\"embedding\": -0.7130619883537292, \"dimension\": 6, \"position\": 87}, {\"embedding\": -0.6674357056617737, \"dimension\": 6, \"position\": 88}, {\"embedding\": -0.6191535592079163, \"dimension\": 6, \"position\": 89}, {\"embedding\": -0.5684073567390442, \"dimension\": 6, \"position\": 90}, {\"embedding\": -0.5153986215591431, \"dimension\": 6, \"position\": 91}, {\"embedding\": -0.46033912897109985, \"dimension\": 6, \"position\": 92}, {\"embedding\": -0.40344759821891785, \"dimension\": 6, \"position\": 93}, {\"embedding\": -0.3449500501155853, \"dimension\": 6, \"position\": 94}, {\"embedding\": -0.28508007526397705, \"dimension\": 6, \"position\": 95}, {\"embedding\": -0.22407560050487518, \"dimension\": 6, \"position\": 96}, {\"embedding\": -0.1621788740158081, \"dimension\": 6, \"position\": 97}, {\"embedding\": -0.09963719546794891, \"dimension\": 6, \"position\": 98}, {\"embedding\": -0.03669850528240204, \"dimension\": 6, \"position\": 99}, {\"embedding\": 1.0, \"dimension\": 7, \"position\": 0}, {\"embedding\": 0.9980100989341736, \"dimension\": 7, \"position\": 1}, {\"embedding\": 0.9920483827590942, \"dimension\": 7, \"position\": 2}, {\"embedding\": 0.9821385741233826, \"dimension\": 7, \"position\": 3}, {\"embedding\": 0.9683201313018799, \"dimension\": 7, \"position\": 4}, {\"embedding\": 0.9506479501724243, \"dimension\": 7, \"position\": 5}, {\"embedding\": 0.9291924834251404, \"dimension\": 7, \"position\": 6}, {\"embedding\": 0.9040390253067017, \"dimension\": 7, \"position\": 7}, {\"embedding\": 0.8752877116203308, \"dimension\": 7, \"position\": 8}, {\"embedding\": 0.8430529236793518, \"dimension\": 7, \"position\": 9}, {\"embedding\": 0.8074630498886108, \"dimension\": 7, \"position\": 10}, {\"embedding\": 0.7686597108840942, \"dimension\": 7, \"position\": 11}, {\"embedding\": 0.7267972826957703, \"dimension\": 7, \"position\": 12}, {\"embedding\": 0.6820423603057861, \"dimension\": 7, \"position\": 13}, {\"embedding\": 0.6345730423927307, \"dimension\": 7, \"position\": 14}, {\"embedding\": 0.5845783352851868, \"dimension\": 7, \"position\": 15}, {\"embedding\": 0.532257080078125, \"dimension\": 7, \"position\": 16}, {\"embedding\": 0.47781768441200256, \"dimension\": 7, \"position\": 17}, {\"embedding\": 0.4214765727519989, \"dimension\": 7, \"position\": 18}, {\"embedding\": 0.36345821619033813, \"dimension\": 7, \"position\": 19}, {\"embedding\": 0.30399325489997864, \"dimension\": 7, \"position\": 20}, {\"embedding\": 0.243318572640419, \"dimension\": 7, \"position\": 21}, {\"embedding\": 0.18167544901371002, \"dimension\": 7, \"position\": 22}, {\"embedding\": 0.11930941045284271, \"dimension\": 7, \"position\": 23}, {\"embedding\": 0.056468550115823746, \"dimension\": 7, \"position\": 24}, {\"embedding\": -0.006597157102078199, \"dimension\": 7, \"position\": 25}, {\"embedding\": -0.06963648647069931, \"dimension\": 7, \"position\": 26}, {\"embedding\": -0.1323987990617752, \"dimension\": 7, \"position\": 27}, {\"embedding\": -0.1946340948343277, \"dimension\": 7, \"position\": 28}, {\"embedding\": -0.25609490275382996, \"dimension\": 7, \"position\": 29}, {\"embedding\": -0.31653639674186707, \"dimension\": 7, \"position\": 30}, {\"embedding\": -0.37571826577186584, \"dimension\": 7, \"position\": 31}, {\"embedding\": -0.43340474367141724, \"dimension\": 7, \"position\": 32}, {\"embedding\": -0.4893665015697479, \"dimension\": 7, \"position\": 33}, {\"embedding\": -0.5433804988861084, \"dimension\": 7, \"position\": 34}, {\"embedding\": -0.5952321887016296, \"dimension\": 7, \"position\": 35}, {\"embedding\": -0.6447150111198425, \"dimension\": 7, \"position\": 36}, {\"embedding\": -0.6916319727897644, \"dimension\": 7, \"position\": 37}, {\"embedding\": -0.7357962727546692, \"dimension\": 7, \"position\": 38}, {\"embedding\": -0.7770324349403381, \"dimension\": 7, \"position\": 39}, {\"embedding\": -0.8151761889457703, \"dimension\": 7, \"position\": 40}, {\"embedding\": -0.8500756621360779, \"dimension\": 7, \"position\": 41}, {\"embedding\": -0.8815921545028687, \"dimension\": 7, \"position\": 42}, {\"embedding\": -0.9096000790596008, \"dimension\": 7, \"position\": 43}, {\"embedding\": -0.933988094329834, \"dimension\": 7, \"position\": 44}, {\"embedding\": -0.9546589255332947, \"dimension\": 7, \"position\": 45}, {\"embedding\": -0.971530556678772, \"dimension\": 7, \"position\": 46}, {\"embedding\": -0.9845356941223145, \"dimension\": 7, \"position\": 47}, {\"embedding\": -0.9936226010322571, \"dimension\": 7, \"position\": 48}, {\"embedding\": -0.998755156993866, \"dimension\": 7, \"position\": 49}, {\"embedding\": -0.9999129772186279, \"dimension\": 7, \"position\": 50}, {\"embedding\": -0.9970912933349609, \"dimension\": 7, \"position\": 51}, {\"embedding\": -0.9903014898300171, \"dimension\": 7, \"position\": 52}, {\"embedding\": -0.9795705676078796, \"dimension\": 7, \"position\": 53}, {\"embedding\": -0.964941143989563, \"dimension\": 7, \"position\": 54}, {\"embedding\": -0.9464714527130127, \"dimension\": 7, \"position\": 55}, {\"embedding\": -0.9242351651191711, \"dimension\": 7, \"position\": 56}, {\"embedding\": -0.8983205556869507, \"dimension\": 7, \"position\": 57}, {\"embedding\": -0.8688308000564575, \"dimension\": 7, \"position\": 58}, {\"embedding\": -0.8358834981918335, \"dimension\": 7, \"position\": 59}, {\"embedding\": -0.7996094226837158, \"dimension\": 7, \"position\": 60}, {\"embedding\": -0.7601531147956848, \"dimension\": 7, \"position\": 61}, {\"embedding\": -0.7176715731620789, \"dimension\": 7, \"position\": 62}, {\"embedding\": -0.6723340749740601, \"dimension\": 7, \"position\": 63}, {\"embedding\": -0.6243206262588501, \"dimension\": 7, \"position\": 64}, {\"embedding\": -0.5738227963447571, \"dimension\": 7, \"position\": 65}, {\"embedding\": -0.5210408568382263, \"dimension\": 7, \"position\": 66}, {\"embedding\": -0.46618568897247314, \"dimension\": 7, \"position\": 67}, {\"embedding\": -0.4094752371311188, \"dimension\": 7, \"position\": 68}, {\"embedding\": -0.3511347472667694, \"dimension\": 7, \"position\": 69}, {\"embedding\": -0.2913972735404968, \"dimension\": 7, \"position\": 70}, {\"embedding\": -0.23049965500831604, \"dimension\": 7, \"position\": 71}, {\"embedding\": -0.1686851680278778, \"dimension\": 7, \"position\": 72}, {\"embedding\": -0.10619935393333435, \"dimension\": 7, \"position\": 73}, {\"embedding\": -0.04329042136669159, \"dimension\": 7, \"position\": 74}, {\"embedding\": 0.019790323451161385, \"dimension\": 7, \"position\": 75}, {\"embedding\": 0.08279230445623398, \"dimension\": 7, \"position\": 76}, {\"embedding\": 0.14546526968479156, \"dimension\": 7, \"position\": 77}, {\"embedding\": 0.20755885541439056, \"dimension\": 7, \"position\": 78}, {\"embedding\": 0.2688263952732086, \"dimension\": 7, \"position\": 79}, {\"embedding\": 0.3290245532989502, \"dimension\": 7, \"position\": 80}, {\"embedding\": 0.3879128098487854, \"dimension\": 7, \"position\": 81}, {\"embedding\": 0.4452572762966156, \"dimension\": 7, \"position\": 82}, {\"embedding\": 0.5008301138877869, \"dimension\": 7, \"position\": 83}, {\"embedding\": 0.5544094443321228, \"dimension\": 7, \"position\": 84}, {\"embedding\": 0.605782687664032, \"dimension\": 7, \"position\": 85}, {\"embedding\": 0.6547446846961975, \"dimension\": 7, \"position\": 86}, {\"embedding\": 0.7011010050773621, \"dimension\": 7, \"position\": 87}, {\"embedding\": 0.7446674108505249, \"dimension\": 7, \"position\": 88}, {\"embedding\": 0.7852699160575867, \"dimension\": 7, \"position\": 89}, {\"embedding\": 0.8227472901344299, \"dimension\": 7, \"position\": 90}, {\"embedding\": 0.856950581073761, \"dimension\": 7, \"position\": 91}, {\"embedding\": 0.8877431154251099, \"dimension\": 7, \"position\": 92}, {\"embedding\": 0.9150027632713318, \"dimension\": 7, \"position\": 93}, {\"embedding\": 0.9386210441589355, \"dimension\": 7, \"position\": 94}, {\"embedding\": 0.9585037231445312, \"dimension\": 7, \"position\": 95}, {\"embedding\": 0.9745717644691467, \"dimension\": 7, \"position\": 96}, {\"embedding\": 0.9867613911628723, \"dimension\": 7, \"position\": 97}, {\"embedding\": 0.9950238466262817, \"dimension\": 7, \"position\": 98}, {\"embedding\": 0.9993264079093933, \"dimension\": 7, \"position\": 99}]}}, {\"mode\": \"vega-lite\"});\n",
              "</script>"
            ],
            "text/plain": [
              "alt.Chart(...)"
            ]
          },
          "metadata": {},
          "execution_count": 20
        }
      ]
    },
    {
      "cell_type": "markdown",
      "source": [
        "# **Positionwise Feed-Forward Layer**"
      ],
      "metadata": {
        "id": "AG1H34On_-qR"
      }
    },
    {
      "cell_type": "markdown",
      "source": [
        "In addition to attention sub-layers, each of the layers in our encoder and decoder contains a fully connected feed-forward network, which is applied to each position separately and identically. This consists of two linear transformations with a ReLU activation in between."
      ],
      "metadata": {
        "id": "8n1nR1NtHWLk"
      }
    },
    {
      "cell_type": "code",
      "source": [
        "class PositionwiseFeedForward(nn.Module):\n",
        "    \"Implements FFN equation.\"\n",
        "\n",
        "    def __init__(self, d_model, d_ff, dropout=0.1):\n",
        "        super(PositionwiseFeedForward, self).__init__()\n",
        "        self.w_1 = nn.Linear(d_model, d_ff)\n",
        "        self.w_2 = nn.Linear(d_ff, d_model)\n",
        "        self.dropout = nn.Dropout(dropout)\n",
        "\n",
        "    def forward(self, x):\n",
        "        return self.w_2(self.dropout(self.w_1(x).relu()))"
      ],
      "metadata": {
        "id": "vRkTJt_9AIIy"
      },
      "execution_count": 21,
      "outputs": []
    },
    {
      "cell_type": "markdown",
      "source": [
        "# **Masking**"
      ],
      "metadata": {
        "id": "X6V1X-jaXqtg"
      }
    },
    {
      "cell_type": "code",
      "source": [
        "import pandas as pd\n",
        "import altair as alt\n",
        "\n",
        "def subsequent_mask(size):\n",
        "    \"Mask out subsequent positions.\"\n",
        "    attn_shape = (1, size, size)\n",
        "    subsequent_mask = torch.triu(torch.ones(attn_shape), diagonal=1).type(\n",
        "        torch.uint8\n",
        "    )\n",
        "    return subsequent_mask == 0"
      ],
      "metadata": {
        "id": "Ta0xqkRc-g1I"
      },
      "execution_count": 18,
      "outputs": []
    },
    {
      "cell_type": "code",
      "source": [
        "def example_mask():\n",
        "    LS_data = pd.concat(\n",
        "        [\n",
        "            pd.DataFrame(\n",
        "                {\n",
        "                    \"Subsequent Mask\": subsequent_mask(20)[0][x, y].flatten(),\n",
        "                    \"Window\": y,\n",
        "                    \"Masking\": x,\n",
        "                }\n",
        "            )\n",
        "            for y in range(20)\n",
        "            for x in range(20)\n",
        "        ]\n",
        "    )\n",
        "\n",
        "    return (\n",
        "        alt.Chart(LS_data)\n",
        "        .mark_rect()\n",
        "        .properties(height=250, width=250)\n",
        "        .encode(\n",
        "            alt.X(\"Window:O\"),\n",
        "            alt.Y(\"Masking:O\"),\n",
        "            alt.Color(\"Subsequent Mask:Q\", scale=alt.Scale(scheme=\"viridis\")),\n",
        "        )\n",
        "        .interactive()\n",
        "    )\n",
        "\n",
        "\n",
        "show_example(example_mask)"
      ],
      "metadata": {
        "colab": {
          "base_uri": "https://localhost:8080/",
          "height": 315
        },
        "id": "3bdRzlwlDHP0",
        "outputId": "a6367f6e-7620-4b46-8206-dc88c329e54b"
      },
      "execution_count": 19,
      "outputs": [
        {
          "output_type": "execute_result",
          "data": {
            "text/html": [
              "\n",
              "<div id=\"altair-viz-078c81d8dc934033a7c1234e94f3386c\"></div>\n",
              "<script type=\"text/javascript\">\n",
              "  var VEGA_DEBUG = (typeof VEGA_DEBUG == \"undefined\") ? {} : VEGA_DEBUG;\n",
              "  (function(spec, embedOpt){\n",
              "    let outputDiv = document.currentScript.previousElementSibling;\n",
              "    if (outputDiv.id !== \"altair-viz-078c81d8dc934033a7c1234e94f3386c\") {\n",
              "      outputDiv = document.getElementById(\"altair-viz-078c81d8dc934033a7c1234e94f3386c\");\n",
              "    }\n",
              "    const paths = {\n",
              "      \"vega\": \"https://cdn.jsdelivr.net/npm//vega@5?noext\",\n",
              "      \"vega-lib\": \"https://cdn.jsdelivr.net/npm//vega-lib?noext\",\n",
              "      \"vega-lite\": \"https://cdn.jsdelivr.net/npm//vega-lite@4.17.0?noext\",\n",
              "      \"vega-embed\": \"https://cdn.jsdelivr.net/npm//vega-embed@6?noext\",\n",
              "    };\n",
              "\n",
              "    function maybeLoadScript(lib, version) {\n",
              "      var key = `${lib.replace(\"-\", \"\")}_version`;\n",
              "      return (VEGA_DEBUG[key] == version) ?\n",
              "        Promise.resolve(paths[lib]) :\n",
              "        new Promise(function(resolve, reject) {\n",
              "          var s = document.createElement('script');\n",
              "          document.getElementsByTagName(\"head\")[0].appendChild(s);\n",
              "          s.async = true;\n",
              "          s.onload = () => {\n",
              "            VEGA_DEBUG[key] = version;\n",
              "            return resolve(paths[lib]);\n",
              "          };\n",
              "          s.onerror = () => reject(`Error loading script: ${paths[lib]}`);\n",
              "          s.src = paths[lib];\n",
              "        });\n",
              "    }\n",
              "\n",
              "    function showError(err) {\n",
              "      outputDiv.innerHTML = `<div class=\"error\" style=\"color:red;\">${err}</div>`;\n",
              "      throw err;\n",
              "    }\n",
              "\n",
              "    function displayChart(vegaEmbed) {\n",
              "      vegaEmbed(outputDiv, spec, embedOpt)\n",
              "        .catch(err => showError(`Javascript Error: ${err.message}<br>This usually means there's a typo in your chart specification. See the javascript console for the full traceback.`));\n",
              "    }\n",
              "\n",
              "    if(typeof define === \"function\" && define.amd) {\n",
              "      requirejs.config({paths});\n",
              "      require([\"vega-embed\"], displayChart, err => showError(`Error loading script: ${err.message}`));\n",
              "    } else {\n",
              "      maybeLoadScript(\"vega\", \"5\")\n",
              "        .then(() => maybeLoadScript(\"vega-lite\", \"4.17.0\"))\n",
              "        .then(() => maybeLoadScript(\"vega-embed\", \"6\"))\n",
              "        .catch(showError)\n",
              "        .then(() => displayChart(vegaEmbed));\n",
              "    }\n",
              "  })({\"config\": {\"view\": {\"continuousWidth\": 400, \"continuousHeight\": 300}}, \"data\": {\"name\": \"data-ac10fa76400c18dafea2d104267bb03d\"}, \"mark\": \"rect\", \"encoding\": {\"color\": {\"field\": \"Subsequent Mask\", \"scale\": {\"scheme\": \"viridis\"}, \"type\": \"quantitative\"}, \"x\": {\"field\": \"Window\", \"type\": \"ordinal\"}, \"y\": {\"field\": \"Masking\", \"type\": \"ordinal\"}}, \"height\": 250, \"selection\": {\"selector001\": {\"type\": \"interval\", \"bind\": \"scales\", \"encodings\": [\"x\", \"y\"]}}, \"width\": 250, \"$schema\": \"https://vega.github.io/schema/vega-lite/v4.17.0.json\", \"datasets\": {\"data-ac10fa76400c18dafea2d104267bb03d\": [{\"Subsequent Mask\": true, \"Window\": 0, \"Masking\": 0}, {\"Subsequent Mask\": true, \"Window\": 0, \"Masking\": 1}, {\"Subsequent Mask\": true, \"Window\": 0, \"Masking\": 2}, {\"Subsequent Mask\": true, \"Window\": 0, \"Masking\": 3}, {\"Subsequent Mask\": true, \"Window\": 0, \"Masking\": 4}, {\"Subsequent Mask\": true, \"Window\": 0, \"Masking\": 5}, {\"Subsequent Mask\": true, \"Window\": 0, \"Masking\": 6}, {\"Subsequent Mask\": true, \"Window\": 0, \"Masking\": 7}, {\"Subsequent Mask\": true, \"Window\": 0, \"Masking\": 8}, {\"Subsequent Mask\": true, \"Window\": 0, \"Masking\": 9}, {\"Subsequent Mask\": true, \"Window\": 0, \"Masking\": 10}, {\"Subsequent Mask\": true, \"Window\": 0, \"Masking\": 11}, {\"Subsequent Mask\": true, \"Window\": 0, \"Masking\": 12}, {\"Subsequent Mask\": true, \"Window\": 0, \"Masking\": 13}, {\"Subsequent Mask\": true, \"Window\": 0, \"Masking\": 14}, {\"Subsequent Mask\": true, \"Window\": 0, \"Masking\": 15}, {\"Subsequent Mask\": true, \"Window\": 0, \"Masking\": 16}, {\"Subsequent Mask\": true, \"Window\": 0, \"Masking\": 17}, {\"Subsequent Mask\": true, \"Window\": 0, \"Masking\": 18}, {\"Subsequent Mask\": true, \"Window\": 0, \"Masking\": 19}, {\"Subsequent Mask\": false, \"Window\": 1, \"Masking\": 0}, {\"Subsequent Mask\": true, \"Window\": 1, \"Masking\": 1}, {\"Subsequent Mask\": true, \"Window\": 1, \"Masking\": 2}, {\"Subsequent Mask\": true, \"Window\": 1, \"Masking\": 3}, {\"Subsequent Mask\": true, \"Window\": 1, \"Masking\": 4}, {\"Subsequent Mask\": true, \"Window\": 1, \"Masking\": 5}, {\"Subsequent Mask\": true, \"Window\": 1, \"Masking\": 6}, {\"Subsequent Mask\": true, \"Window\": 1, \"Masking\": 7}, {\"Subsequent Mask\": true, \"Window\": 1, \"Masking\": 8}, {\"Subsequent Mask\": true, \"Window\": 1, \"Masking\": 9}, {\"Subsequent Mask\": true, \"Window\": 1, \"Masking\": 10}, {\"Subsequent Mask\": true, \"Window\": 1, \"Masking\": 11}, {\"Subsequent Mask\": true, \"Window\": 1, \"Masking\": 12}, {\"Subsequent Mask\": true, \"Window\": 1, \"Masking\": 13}, {\"Subsequent Mask\": true, \"Window\": 1, \"Masking\": 14}, {\"Subsequent Mask\": true, \"Window\": 1, \"Masking\": 15}, {\"Subsequent Mask\": true, \"Window\": 1, \"Masking\": 16}, {\"Subsequent Mask\": true, \"Window\": 1, \"Masking\": 17}, {\"Subsequent Mask\": true, \"Window\": 1, \"Masking\": 18}, {\"Subsequent Mask\": true, \"Window\": 1, \"Masking\": 19}, {\"Subsequent Mask\": false, \"Window\": 2, \"Masking\": 0}, {\"Subsequent Mask\": false, \"Window\": 2, \"Masking\": 1}, {\"Subsequent Mask\": true, \"Window\": 2, \"Masking\": 2}, {\"Subsequent Mask\": true, \"Window\": 2, \"Masking\": 3}, {\"Subsequent Mask\": true, \"Window\": 2, \"Masking\": 4}, {\"Subsequent Mask\": true, \"Window\": 2, \"Masking\": 5}, {\"Subsequent Mask\": true, \"Window\": 2, \"Masking\": 6}, {\"Subsequent Mask\": true, \"Window\": 2, \"Masking\": 7}, {\"Subsequent Mask\": true, \"Window\": 2, \"Masking\": 8}, {\"Subsequent Mask\": true, \"Window\": 2, \"Masking\": 9}, {\"Subsequent Mask\": true, \"Window\": 2, \"Masking\": 10}, {\"Subsequent Mask\": true, \"Window\": 2, \"Masking\": 11}, {\"Subsequent Mask\": true, \"Window\": 2, \"Masking\": 12}, {\"Subsequent Mask\": true, \"Window\": 2, \"Masking\": 13}, {\"Subsequent Mask\": true, \"Window\": 2, \"Masking\": 14}, {\"Subsequent Mask\": true, \"Window\": 2, \"Masking\": 15}, {\"Subsequent Mask\": true, \"Window\": 2, \"Masking\": 16}, {\"Subsequent Mask\": true, \"Window\": 2, \"Masking\": 17}, {\"Subsequent Mask\": true, \"Window\": 2, \"Masking\": 18}, {\"Subsequent Mask\": true, \"Window\": 2, \"Masking\": 19}, {\"Subsequent Mask\": false, \"Window\": 3, \"Masking\": 0}, {\"Subsequent Mask\": false, \"Window\": 3, \"Masking\": 1}, {\"Subsequent Mask\": false, \"Window\": 3, \"Masking\": 2}, {\"Subsequent Mask\": true, \"Window\": 3, \"Masking\": 3}, {\"Subsequent Mask\": true, \"Window\": 3, \"Masking\": 4}, {\"Subsequent Mask\": true, \"Window\": 3, \"Masking\": 5}, {\"Subsequent Mask\": true, \"Window\": 3, \"Masking\": 6}, {\"Subsequent Mask\": true, \"Window\": 3, \"Masking\": 7}, {\"Subsequent Mask\": true, \"Window\": 3, \"Masking\": 8}, {\"Subsequent Mask\": true, \"Window\": 3, \"Masking\": 9}, {\"Subsequent Mask\": true, \"Window\": 3, \"Masking\": 10}, {\"Subsequent Mask\": true, \"Window\": 3, \"Masking\": 11}, {\"Subsequent Mask\": true, \"Window\": 3, \"Masking\": 12}, {\"Subsequent Mask\": true, \"Window\": 3, \"Masking\": 13}, {\"Subsequent Mask\": true, \"Window\": 3, \"Masking\": 14}, {\"Subsequent Mask\": true, \"Window\": 3, \"Masking\": 15}, {\"Subsequent Mask\": true, \"Window\": 3, \"Masking\": 16}, {\"Subsequent Mask\": true, \"Window\": 3, \"Masking\": 17}, {\"Subsequent Mask\": true, \"Window\": 3, \"Masking\": 18}, {\"Subsequent Mask\": true, \"Window\": 3, \"Masking\": 19}, {\"Subsequent Mask\": false, \"Window\": 4, \"Masking\": 0}, {\"Subsequent Mask\": false, \"Window\": 4, \"Masking\": 1}, {\"Subsequent Mask\": false, \"Window\": 4, \"Masking\": 2}, {\"Subsequent Mask\": false, \"Window\": 4, \"Masking\": 3}, {\"Subsequent Mask\": true, \"Window\": 4, \"Masking\": 4}, {\"Subsequent Mask\": true, \"Window\": 4, \"Masking\": 5}, {\"Subsequent Mask\": true, \"Window\": 4, \"Masking\": 6}, {\"Subsequent Mask\": true, \"Window\": 4, \"Masking\": 7}, {\"Subsequent Mask\": true, \"Window\": 4, \"Masking\": 8}, {\"Subsequent Mask\": true, \"Window\": 4, \"Masking\": 9}, {\"Subsequent Mask\": true, \"Window\": 4, \"Masking\": 10}, {\"Subsequent Mask\": true, \"Window\": 4, \"Masking\": 11}, {\"Subsequent Mask\": true, \"Window\": 4, \"Masking\": 12}, {\"Subsequent Mask\": true, \"Window\": 4, \"Masking\": 13}, {\"Subsequent Mask\": true, \"Window\": 4, \"Masking\": 14}, {\"Subsequent Mask\": true, \"Window\": 4, \"Masking\": 15}, {\"Subsequent Mask\": true, \"Window\": 4, \"Masking\": 16}, {\"Subsequent Mask\": true, \"Window\": 4, \"Masking\": 17}, {\"Subsequent Mask\": true, \"Window\": 4, \"Masking\": 18}, {\"Subsequent Mask\": true, \"Window\": 4, \"Masking\": 19}, {\"Subsequent Mask\": false, \"Window\": 5, \"Masking\": 0}, {\"Subsequent Mask\": false, \"Window\": 5, \"Masking\": 1}, {\"Subsequent Mask\": false, \"Window\": 5, \"Masking\": 2}, {\"Subsequent Mask\": false, \"Window\": 5, \"Masking\": 3}, {\"Subsequent Mask\": false, \"Window\": 5, \"Masking\": 4}, {\"Subsequent Mask\": true, \"Window\": 5, \"Masking\": 5}, {\"Subsequent Mask\": true, \"Window\": 5, \"Masking\": 6}, {\"Subsequent Mask\": true, \"Window\": 5, \"Masking\": 7}, {\"Subsequent Mask\": true, \"Window\": 5, \"Masking\": 8}, {\"Subsequent Mask\": true, \"Window\": 5, \"Masking\": 9}, {\"Subsequent Mask\": true, \"Window\": 5, \"Masking\": 10}, {\"Subsequent Mask\": true, \"Window\": 5, \"Masking\": 11}, {\"Subsequent Mask\": true, \"Window\": 5, \"Masking\": 12}, {\"Subsequent Mask\": true, \"Window\": 5, \"Masking\": 13}, {\"Subsequent Mask\": true, \"Window\": 5, \"Masking\": 14}, {\"Subsequent Mask\": true, \"Window\": 5, \"Masking\": 15}, {\"Subsequent Mask\": true, \"Window\": 5, \"Masking\": 16}, {\"Subsequent Mask\": true, \"Window\": 5, \"Masking\": 17}, {\"Subsequent Mask\": true, \"Window\": 5, \"Masking\": 18}, {\"Subsequent Mask\": true, \"Window\": 5, \"Masking\": 19}, {\"Subsequent Mask\": false, \"Window\": 6, \"Masking\": 0}, {\"Subsequent Mask\": false, \"Window\": 6, \"Masking\": 1}, {\"Subsequent Mask\": false, \"Window\": 6, \"Masking\": 2}, {\"Subsequent Mask\": false, \"Window\": 6, \"Masking\": 3}, {\"Subsequent Mask\": false, \"Window\": 6, \"Masking\": 4}, {\"Subsequent Mask\": false, \"Window\": 6, \"Masking\": 5}, {\"Subsequent Mask\": true, \"Window\": 6, \"Masking\": 6}, {\"Subsequent Mask\": true, \"Window\": 6, \"Masking\": 7}, {\"Subsequent Mask\": true, \"Window\": 6, \"Masking\": 8}, {\"Subsequent Mask\": true, \"Window\": 6, \"Masking\": 9}, {\"Subsequent Mask\": true, \"Window\": 6, \"Masking\": 10}, {\"Subsequent Mask\": true, \"Window\": 6, \"Masking\": 11}, {\"Subsequent Mask\": true, \"Window\": 6, \"Masking\": 12}, {\"Subsequent Mask\": true, \"Window\": 6, \"Masking\": 13}, {\"Subsequent Mask\": true, \"Window\": 6, \"Masking\": 14}, {\"Subsequent Mask\": true, \"Window\": 6, \"Masking\": 15}, {\"Subsequent Mask\": true, \"Window\": 6, \"Masking\": 16}, {\"Subsequent Mask\": true, \"Window\": 6, \"Masking\": 17}, {\"Subsequent Mask\": true, \"Window\": 6, \"Masking\": 18}, {\"Subsequent Mask\": true, \"Window\": 6, \"Masking\": 19}, {\"Subsequent Mask\": false, \"Window\": 7, \"Masking\": 0}, {\"Subsequent Mask\": false, \"Window\": 7, \"Masking\": 1}, {\"Subsequent Mask\": false, \"Window\": 7, \"Masking\": 2}, {\"Subsequent Mask\": false, \"Window\": 7, \"Masking\": 3}, {\"Subsequent Mask\": false, \"Window\": 7, \"Masking\": 4}, {\"Subsequent Mask\": false, \"Window\": 7, \"Masking\": 5}, {\"Subsequent Mask\": false, \"Window\": 7, \"Masking\": 6}, {\"Subsequent Mask\": true, \"Window\": 7, \"Masking\": 7}, {\"Subsequent Mask\": true, \"Window\": 7, \"Masking\": 8}, {\"Subsequent Mask\": true, \"Window\": 7, \"Masking\": 9}, {\"Subsequent Mask\": true, \"Window\": 7, \"Masking\": 10}, {\"Subsequent Mask\": true, \"Window\": 7, \"Masking\": 11}, {\"Subsequent Mask\": true, \"Window\": 7, \"Masking\": 12}, {\"Subsequent Mask\": true, \"Window\": 7, \"Masking\": 13}, {\"Subsequent Mask\": true, \"Window\": 7, \"Masking\": 14}, {\"Subsequent Mask\": true, \"Window\": 7, \"Masking\": 15}, {\"Subsequent Mask\": true, \"Window\": 7, \"Masking\": 16}, {\"Subsequent Mask\": true, \"Window\": 7, \"Masking\": 17}, {\"Subsequent Mask\": true, \"Window\": 7, \"Masking\": 18}, {\"Subsequent Mask\": true, \"Window\": 7, \"Masking\": 19}, {\"Subsequent Mask\": false, \"Window\": 8, \"Masking\": 0}, {\"Subsequent Mask\": false, \"Window\": 8, \"Masking\": 1}, {\"Subsequent Mask\": false, \"Window\": 8, \"Masking\": 2}, {\"Subsequent Mask\": false, \"Window\": 8, \"Masking\": 3}, {\"Subsequent Mask\": false, \"Window\": 8, \"Masking\": 4}, {\"Subsequent Mask\": false, \"Window\": 8, \"Masking\": 5}, {\"Subsequent Mask\": false, \"Window\": 8, \"Masking\": 6}, {\"Subsequent Mask\": false, \"Window\": 8, \"Masking\": 7}, {\"Subsequent Mask\": true, \"Window\": 8, \"Masking\": 8}, {\"Subsequent Mask\": true, \"Window\": 8, \"Masking\": 9}, {\"Subsequent Mask\": true, \"Window\": 8, \"Masking\": 10}, {\"Subsequent Mask\": true, \"Window\": 8, \"Masking\": 11}, {\"Subsequent Mask\": true, \"Window\": 8, \"Masking\": 12}, {\"Subsequent Mask\": true, \"Window\": 8, \"Masking\": 13}, {\"Subsequent Mask\": true, \"Window\": 8, \"Masking\": 14}, {\"Subsequent Mask\": true, \"Window\": 8, \"Masking\": 15}, {\"Subsequent Mask\": true, \"Window\": 8, \"Masking\": 16}, {\"Subsequent Mask\": true, \"Window\": 8, \"Masking\": 17}, {\"Subsequent Mask\": true, \"Window\": 8, \"Masking\": 18}, {\"Subsequent Mask\": true, \"Window\": 8, \"Masking\": 19}, {\"Subsequent Mask\": false, \"Window\": 9, \"Masking\": 0}, {\"Subsequent Mask\": false, \"Window\": 9, \"Masking\": 1}, {\"Subsequent Mask\": false, \"Window\": 9, \"Masking\": 2}, {\"Subsequent Mask\": false, \"Window\": 9, \"Masking\": 3}, {\"Subsequent Mask\": false, \"Window\": 9, \"Masking\": 4}, {\"Subsequent Mask\": false, \"Window\": 9, \"Masking\": 5}, {\"Subsequent Mask\": false, \"Window\": 9, \"Masking\": 6}, {\"Subsequent Mask\": false, \"Window\": 9, \"Masking\": 7}, {\"Subsequent Mask\": false, \"Window\": 9, \"Masking\": 8}, {\"Subsequent Mask\": true, \"Window\": 9, \"Masking\": 9}, {\"Subsequent Mask\": true, \"Window\": 9, \"Masking\": 10}, {\"Subsequent Mask\": true, \"Window\": 9, \"Masking\": 11}, {\"Subsequent Mask\": true, \"Window\": 9, \"Masking\": 12}, {\"Subsequent Mask\": true, \"Window\": 9, \"Masking\": 13}, {\"Subsequent Mask\": true, \"Window\": 9, \"Masking\": 14}, {\"Subsequent Mask\": true, \"Window\": 9, \"Masking\": 15}, {\"Subsequent Mask\": true, \"Window\": 9, \"Masking\": 16}, {\"Subsequent Mask\": true, \"Window\": 9, \"Masking\": 17}, {\"Subsequent Mask\": true, \"Window\": 9, \"Masking\": 18}, {\"Subsequent Mask\": true, \"Window\": 9, \"Masking\": 19}, {\"Subsequent Mask\": false, \"Window\": 10, \"Masking\": 0}, {\"Subsequent Mask\": false, \"Window\": 10, \"Masking\": 1}, {\"Subsequent Mask\": false, \"Window\": 10, \"Masking\": 2}, {\"Subsequent Mask\": false, \"Window\": 10, \"Masking\": 3}, {\"Subsequent Mask\": false, \"Window\": 10, \"Masking\": 4}, {\"Subsequent Mask\": false, \"Window\": 10, \"Masking\": 5}, {\"Subsequent Mask\": false, \"Window\": 10, \"Masking\": 6}, {\"Subsequent Mask\": false, \"Window\": 10, \"Masking\": 7}, {\"Subsequent Mask\": false, \"Window\": 10, \"Masking\": 8}, {\"Subsequent Mask\": false, \"Window\": 10, \"Masking\": 9}, {\"Subsequent Mask\": true, \"Window\": 10, \"Masking\": 10}, {\"Subsequent Mask\": true, \"Window\": 10, \"Masking\": 11}, {\"Subsequent Mask\": true, \"Window\": 10, \"Masking\": 12}, {\"Subsequent Mask\": true, \"Window\": 10, \"Masking\": 13}, {\"Subsequent Mask\": true, \"Window\": 10, \"Masking\": 14}, {\"Subsequent Mask\": true, \"Window\": 10, \"Masking\": 15}, {\"Subsequent Mask\": true, \"Window\": 10, \"Masking\": 16}, {\"Subsequent Mask\": true, \"Window\": 10, \"Masking\": 17}, {\"Subsequent Mask\": true, \"Window\": 10, \"Masking\": 18}, {\"Subsequent Mask\": true, \"Window\": 10, \"Masking\": 19}, {\"Subsequent Mask\": false, \"Window\": 11, \"Masking\": 0}, {\"Subsequent Mask\": false, \"Window\": 11, \"Masking\": 1}, {\"Subsequent Mask\": false, \"Window\": 11, \"Masking\": 2}, {\"Subsequent Mask\": false, \"Window\": 11, \"Masking\": 3}, {\"Subsequent Mask\": false, \"Window\": 11, \"Masking\": 4}, {\"Subsequent Mask\": false, \"Window\": 11, \"Masking\": 5}, {\"Subsequent Mask\": false, \"Window\": 11, \"Masking\": 6}, {\"Subsequent Mask\": false, \"Window\": 11, \"Masking\": 7}, {\"Subsequent Mask\": false, \"Window\": 11, \"Masking\": 8}, {\"Subsequent Mask\": false, \"Window\": 11, \"Masking\": 9}, {\"Subsequent Mask\": false, \"Window\": 11, \"Masking\": 10}, {\"Subsequent Mask\": true, \"Window\": 11, \"Masking\": 11}, {\"Subsequent Mask\": true, \"Window\": 11, \"Masking\": 12}, {\"Subsequent Mask\": true, \"Window\": 11, \"Masking\": 13}, {\"Subsequent Mask\": true, \"Window\": 11, \"Masking\": 14}, {\"Subsequent Mask\": true, \"Window\": 11, \"Masking\": 15}, {\"Subsequent Mask\": true, \"Window\": 11, \"Masking\": 16}, {\"Subsequent Mask\": true, \"Window\": 11, \"Masking\": 17}, {\"Subsequent Mask\": true, \"Window\": 11, \"Masking\": 18}, {\"Subsequent Mask\": true, \"Window\": 11, \"Masking\": 19}, {\"Subsequent Mask\": false, \"Window\": 12, \"Masking\": 0}, {\"Subsequent Mask\": false, \"Window\": 12, \"Masking\": 1}, {\"Subsequent Mask\": false, \"Window\": 12, \"Masking\": 2}, {\"Subsequent Mask\": false, \"Window\": 12, \"Masking\": 3}, {\"Subsequent Mask\": false, \"Window\": 12, \"Masking\": 4}, {\"Subsequent Mask\": false, \"Window\": 12, \"Masking\": 5}, {\"Subsequent Mask\": false, \"Window\": 12, \"Masking\": 6}, {\"Subsequent Mask\": false, \"Window\": 12, \"Masking\": 7}, {\"Subsequent Mask\": false, \"Window\": 12, \"Masking\": 8}, {\"Subsequent Mask\": false, \"Window\": 12, \"Masking\": 9}, {\"Subsequent Mask\": false, \"Window\": 12, \"Masking\": 10}, {\"Subsequent Mask\": false, \"Window\": 12, \"Masking\": 11}, {\"Subsequent Mask\": true, \"Window\": 12, \"Masking\": 12}, {\"Subsequent Mask\": true, \"Window\": 12, \"Masking\": 13}, {\"Subsequent Mask\": true, \"Window\": 12, \"Masking\": 14}, {\"Subsequent Mask\": true, \"Window\": 12, \"Masking\": 15}, {\"Subsequent Mask\": true, \"Window\": 12, \"Masking\": 16}, {\"Subsequent Mask\": true, \"Window\": 12, \"Masking\": 17}, {\"Subsequent Mask\": true, \"Window\": 12, \"Masking\": 18}, {\"Subsequent Mask\": true, \"Window\": 12, \"Masking\": 19}, {\"Subsequent Mask\": false, \"Window\": 13, \"Masking\": 0}, {\"Subsequent Mask\": false, \"Window\": 13, \"Masking\": 1}, {\"Subsequent Mask\": false, \"Window\": 13, \"Masking\": 2}, {\"Subsequent Mask\": false, \"Window\": 13, \"Masking\": 3}, {\"Subsequent Mask\": false, \"Window\": 13, \"Masking\": 4}, {\"Subsequent Mask\": false, \"Window\": 13, \"Masking\": 5}, {\"Subsequent Mask\": false, \"Window\": 13, \"Masking\": 6}, {\"Subsequent Mask\": false, \"Window\": 13, \"Masking\": 7}, {\"Subsequent Mask\": false, \"Window\": 13, \"Masking\": 8}, {\"Subsequent Mask\": false, \"Window\": 13, \"Masking\": 9}, {\"Subsequent Mask\": false, \"Window\": 13, \"Masking\": 10}, {\"Subsequent Mask\": false, \"Window\": 13, \"Masking\": 11}, {\"Subsequent Mask\": false, \"Window\": 13, \"Masking\": 12}, {\"Subsequent Mask\": true, \"Window\": 13, \"Masking\": 13}, {\"Subsequent Mask\": true, \"Window\": 13, \"Masking\": 14}, {\"Subsequent Mask\": true, \"Window\": 13, \"Masking\": 15}, {\"Subsequent Mask\": true, \"Window\": 13, \"Masking\": 16}, {\"Subsequent Mask\": true, \"Window\": 13, \"Masking\": 17}, {\"Subsequent Mask\": true, \"Window\": 13, \"Masking\": 18}, {\"Subsequent Mask\": true, \"Window\": 13, \"Masking\": 19}, {\"Subsequent Mask\": false, \"Window\": 14, \"Masking\": 0}, {\"Subsequent Mask\": false, \"Window\": 14, \"Masking\": 1}, {\"Subsequent Mask\": false, \"Window\": 14, \"Masking\": 2}, {\"Subsequent Mask\": false, \"Window\": 14, \"Masking\": 3}, {\"Subsequent Mask\": false, \"Window\": 14, \"Masking\": 4}, {\"Subsequent Mask\": false, \"Window\": 14, \"Masking\": 5}, {\"Subsequent Mask\": false, \"Window\": 14, \"Masking\": 6}, {\"Subsequent Mask\": false, \"Window\": 14, \"Masking\": 7}, {\"Subsequent Mask\": false, \"Window\": 14, \"Masking\": 8}, {\"Subsequent Mask\": false, \"Window\": 14, \"Masking\": 9}, {\"Subsequent Mask\": false, \"Window\": 14, \"Masking\": 10}, {\"Subsequent Mask\": false, \"Window\": 14, \"Masking\": 11}, {\"Subsequent Mask\": false, \"Window\": 14, \"Masking\": 12}, {\"Subsequent Mask\": false, \"Window\": 14, \"Masking\": 13}, {\"Subsequent Mask\": true, \"Window\": 14, \"Masking\": 14}, {\"Subsequent Mask\": true, \"Window\": 14, \"Masking\": 15}, {\"Subsequent Mask\": true, \"Window\": 14, \"Masking\": 16}, {\"Subsequent Mask\": true, \"Window\": 14, \"Masking\": 17}, {\"Subsequent Mask\": true, \"Window\": 14, \"Masking\": 18}, {\"Subsequent Mask\": true, \"Window\": 14, \"Masking\": 19}, {\"Subsequent Mask\": false, \"Window\": 15, \"Masking\": 0}, {\"Subsequent Mask\": false, \"Window\": 15, \"Masking\": 1}, {\"Subsequent Mask\": false, \"Window\": 15, \"Masking\": 2}, {\"Subsequent Mask\": false, \"Window\": 15, \"Masking\": 3}, {\"Subsequent Mask\": false, \"Window\": 15, \"Masking\": 4}, {\"Subsequent Mask\": false, \"Window\": 15, \"Masking\": 5}, {\"Subsequent Mask\": false, \"Window\": 15, \"Masking\": 6}, {\"Subsequent Mask\": false, \"Window\": 15, \"Masking\": 7}, {\"Subsequent Mask\": false, \"Window\": 15, \"Masking\": 8}, {\"Subsequent Mask\": false, \"Window\": 15, \"Masking\": 9}, {\"Subsequent Mask\": false, \"Window\": 15, \"Masking\": 10}, {\"Subsequent Mask\": false, \"Window\": 15, \"Masking\": 11}, {\"Subsequent Mask\": false, \"Window\": 15, \"Masking\": 12}, {\"Subsequent Mask\": false, \"Window\": 15, \"Masking\": 13}, {\"Subsequent Mask\": false, \"Window\": 15, \"Masking\": 14}, {\"Subsequent Mask\": true, \"Window\": 15, \"Masking\": 15}, {\"Subsequent Mask\": true, \"Window\": 15, \"Masking\": 16}, {\"Subsequent Mask\": true, \"Window\": 15, \"Masking\": 17}, {\"Subsequent Mask\": true, \"Window\": 15, \"Masking\": 18}, {\"Subsequent Mask\": true, \"Window\": 15, \"Masking\": 19}, {\"Subsequent Mask\": false, \"Window\": 16, \"Masking\": 0}, {\"Subsequent Mask\": false, \"Window\": 16, \"Masking\": 1}, {\"Subsequent Mask\": false, \"Window\": 16, \"Masking\": 2}, {\"Subsequent Mask\": false, \"Window\": 16, \"Masking\": 3}, {\"Subsequent Mask\": false, \"Window\": 16, \"Masking\": 4}, {\"Subsequent Mask\": false, \"Window\": 16, \"Masking\": 5}, {\"Subsequent Mask\": false, \"Window\": 16, \"Masking\": 6}, {\"Subsequent Mask\": false, \"Window\": 16, \"Masking\": 7}, {\"Subsequent Mask\": false, \"Window\": 16, \"Masking\": 8}, {\"Subsequent Mask\": false, \"Window\": 16, \"Masking\": 9}, {\"Subsequent Mask\": false, \"Window\": 16, \"Masking\": 10}, {\"Subsequent Mask\": false, \"Window\": 16, \"Masking\": 11}, {\"Subsequent Mask\": false, \"Window\": 16, \"Masking\": 12}, {\"Subsequent Mask\": false, \"Window\": 16, \"Masking\": 13}, {\"Subsequent Mask\": false, \"Window\": 16, \"Masking\": 14}, {\"Subsequent Mask\": false, \"Window\": 16, \"Masking\": 15}, {\"Subsequent Mask\": true, \"Window\": 16, \"Masking\": 16}, {\"Subsequent Mask\": true, \"Window\": 16, \"Masking\": 17}, {\"Subsequent Mask\": true, \"Window\": 16, \"Masking\": 18}, {\"Subsequent Mask\": true, \"Window\": 16, \"Masking\": 19}, {\"Subsequent Mask\": false, \"Window\": 17, \"Masking\": 0}, {\"Subsequent Mask\": false, \"Window\": 17, \"Masking\": 1}, {\"Subsequent Mask\": false, \"Window\": 17, \"Masking\": 2}, {\"Subsequent Mask\": false, \"Window\": 17, \"Masking\": 3}, {\"Subsequent Mask\": false, \"Window\": 17, \"Masking\": 4}, {\"Subsequent Mask\": false, \"Window\": 17, \"Masking\": 5}, {\"Subsequent Mask\": false, \"Window\": 17, \"Masking\": 6}, {\"Subsequent Mask\": false, \"Window\": 17, \"Masking\": 7}, {\"Subsequent Mask\": false, \"Window\": 17, \"Masking\": 8}, {\"Subsequent Mask\": false, \"Window\": 17, \"Masking\": 9}, {\"Subsequent Mask\": false, \"Window\": 17, \"Masking\": 10}, {\"Subsequent Mask\": false, \"Window\": 17, \"Masking\": 11}, {\"Subsequent Mask\": false, \"Window\": 17, \"Masking\": 12}, {\"Subsequent Mask\": false, \"Window\": 17, \"Masking\": 13}, {\"Subsequent Mask\": false, \"Window\": 17, \"Masking\": 14}, {\"Subsequent Mask\": false, \"Window\": 17, \"Masking\": 15}, {\"Subsequent Mask\": false, \"Window\": 17, \"Masking\": 16}, {\"Subsequent Mask\": true, \"Window\": 17, \"Masking\": 17}, {\"Subsequent Mask\": true, \"Window\": 17, \"Masking\": 18}, {\"Subsequent Mask\": true, \"Window\": 17, \"Masking\": 19}, {\"Subsequent Mask\": false, \"Window\": 18, \"Masking\": 0}, {\"Subsequent Mask\": false, \"Window\": 18, \"Masking\": 1}, {\"Subsequent Mask\": false, \"Window\": 18, \"Masking\": 2}, {\"Subsequent Mask\": false, \"Window\": 18, \"Masking\": 3}, {\"Subsequent Mask\": false, \"Window\": 18, \"Masking\": 4}, {\"Subsequent Mask\": false, \"Window\": 18, \"Masking\": 5}, {\"Subsequent Mask\": false, \"Window\": 18, \"Masking\": 6}, {\"Subsequent Mask\": false, \"Window\": 18, \"Masking\": 7}, {\"Subsequent Mask\": false, \"Window\": 18, \"Masking\": 8}, {\"Subsequent Mask\": false, \"Window\": 18, \"Masking\": 9}, {\"Subsequent Mask\": false, \"Window\": 18, \"Masking\": 10}, {\"Subsequent Mask\": false, \"Window\": 18, \"Masking\": 11}, {\"Subsequent Mask\": false, \"Window\": 18, \"Masking\": 12}, {\"Subsequent Mask\": false, \"Window\": 18, \"Masking\": 13}, {\"Subsequent Mask\": false, \"Window\": 18, \"Masking\": 14}, {\"Subsequent Mask\": false, \"Window\": 18, \"Masking\": 15}, {\"Subsequent Mask\": false, \"Window\": 18, \"Masking\": 16}, {\"Subsequent Mask\": false, \"Window\": 18, \"Masking\": 17}, {\"Subsequent Mask\": true, \"Window\": 18, \"Masking\": 18}, {\"Subsequent Mask\": true, \"Window\": 18, \"Masking\": 19}, {\"Subsequent Mask\": false, \"Window\": 19, \"Masking\": 0}, {\"Subsequent Mask\": false, \"Window\": 19, \"Masking\": 1}, {\"Subsequent Mask\": false, \"Window\": 19, \"Masking\": 2}, {\"Subsequent Mask\": false, \"Window\": 19, \"Masking\": 3}, {\"Subsequent Mask\": false, \"Window\": 19, \"Masking\": 4}, {\"Subsequent Mask\": false, \"Window\": 19, \"Masking\": 5}, {\"Subsequent Mask\": false, \"Window\": 19, \"Masking\": 6}, {\"Subsequent Mask\": false, \"Window\": 19, \"Masking\": 7}, {\"Subsequent Mask\": false, \"Window\": 19, \"Masking\": 8}, {\"Subsequent Mask\": false, \"Window\": 19, \"Masking\": 9}, {\"Subsequent Mask\": false, \"Window\": 19, \"Masking\": 10}, {\"Subsequent Mask\": false, \"Window\": 19, \"Masking\": 11}, {\"Subsequent Mask\": false, \"Window\": 19, \"Masking\": 12}, {\"Subsequent Mask\": false, \"Window\": 19, \"Masking\": 13}, {\"Subsequent Mask\": false, \"Window\": 19, \"Masking\": 14}, {\"Subsequent Mask\": false, \"Window\": 19, \"Masking\": 15}, {\"Subsequent Mask\": false, \"Window\": 19, \"Masking\": 16}, {\"Subsequent Mask\": false, \"Window\": 19, \"Masking\": 17}, {\"Subsequent Mask\": false, \"Window\": 19, \"Masking\": 18}, {\"Subsequent Mask\": true, \"Window\": 19, \"Masking\": 19}]}}, {\"mode\": \"vega-lite\"});\n",
              "</script>"
            ],
            "text/plain": [
              "alt.Chart(...)"
            ]
          },
          "metadata": {},
          "execution_count": 19
        }
      ]
    },
    {
      "cell_type": "markdown",
      "source": [
        "# **The Complete Transformer Model**"
      ],
      "metadata": {
        "id": "mS4zQ0z5_gaD"
      }
    },
    {
      "cell_type": "markdown",
      "source": [
        "This sets up the complete untrained model and initializes all of the weights randomly."
      ],
      "metadata": {
        "id": "TPzSrd93B0Y6"
      }
    },
    {
      "cell_type": "code",
      "source": [
        "def make_model(\n",
        "    src_vocab, tgt_vocab, N=6, d_model=512, d_ff=2048, h=8, dropout=0.1\n",
        "):\n",
        "    \"Helper: Construct a model from hyperparameters.\"\n",
        "    c = copy.deepcopy\n",
        "    attn = MultiHeadedAttention(h, d_model)\n",
        "    ff = PositionwiseFeedForward(d_model, d_ff, dropout)\n",
        "    position = PositionalEncoding(d_model, dropout)\n",
        "    model = EncoderDecoder(\n",
        "        Encoder(EncoderLayer(d_model, c(attn), c(ff), dropout), N),\n",
        "        Decoder(DecoderLayer(d_model, c(attn), c(attn), c(ff), dropout), N),\n",
        "        nn.Sequential(Embeddings(d_model, src_vocab), c(position)),\n",
        "        nn.Sequential(Embeddings(d_model, tgt_vocab), c(position)),\n",
        "        Generator(d_model, tgt_vocab),\n",
        "    )\n",
        "\n",
        "    # This was important from their code.\n",
        "    # Initialize parameters with Glorot / fan_avg.\n",
        "    for p in model.parameters():\n",
        "        if p.dim() > 1:\n",
        "            nn.init.xavier_uniform_(p)\n",
        "    return model"
      ],
      "metadata": {
        "id": "gQHloXXj_wCS"
      },
      "execution_count": 22,
      "outputs": []
    },
    {
      "cell_type": "markdown",
      "source": [
        "Perform a pseudo-inference using an untrained model and a pre-determined sequence length."
      ],
      "metadata": {
        "id": "pjF6kCsFRfCV"
      }
    },
    {
      "cell_type": "code",
      "source": [
        "def inference_test():\n",
        "    test_model = make_model(11, 11, 2)\n",
        "    test_model.eval()\n",
        "    src = torch.LongTensor([[1, 2, 3, 4, 5, 6, 7, 8, 9, 10]])\n",
        "    src_mask = torch.ones(1, 1, 10)\n",
        "\n",
        "    memory = test_model.encode(src, src_mask)\n",
        "    ys = torch.zeros(1, 1).type_as(src)\n",
        "\n",
        "    for i in range(9):\n",
        "        out = test_model.decode(\n",
        "            memory, src_mask, ys, subsequent_mask(ys.size(1)).type_as(src.data)\n",
        "        )\n",
        "        prob = test_model.generator(out[:, -1])\n",
        "        _, next_word = torch.max(prob, dim=1)\n",
        "        next_word = next_word.data[0]\n",
        "        ys = torch.cat(\n",
        "            [ys, torch.empty(1, 1).type_as(src.data).fill_(next_word)], dim=1\n",
        "        )\n",
        "\n",
        "    print(\"Example Untrained Model Prediction:\", ys)\n",
        "\n",
        "\n",
        "def run_tests():\n",
        "    for _ in range(10):\n",
        "        inference_test()\n",
        "\n",
        "\n",
        "show_example(run_tests)"
      ],
      "metadata": {
        "colab": {
          "base_uri": "https://localhost:8080/"
        },
        "id": "fuJ34JwOQzdF",
        "outputId": "e49c35ed-9250-4799-e2e8-1f95da37d9eb"
      },
      "execution_count": 23,
      "outputs": [
        {
          "output_type": "stream",
          "name": "stdout",
          "text": [
            "Example Untrained Model Prediction: tensor([[ 0, 10,  2,  2,  2,  2,  2,  2,  2,  2]])\n",
            "Example Untrained Model Prediction: tensor([[0, 2, 3, 2, 3, 2, 4, 1, 4, 1]])\n",
            "Example Untrained Model Prediction: tensor([[0, 8, 1, 8, 1, 8, 8, 8, 8, 8]])\n",
            "Example Untrained Model Prediction: tensor([[0, 7, 3, 3, 3, 3, 3, 3, 3, 3]])\n",
            "Example Untrained Model Prediction: tensor([[0, 8, 7, 2, 5, 4, 9, 9, 9, 9]])\n",
            "Example Untrained Model Prediction: tensor([[0, 9, 3, 9, 3, 9, 3, 9, 3, 9]])\n",
            "Example Untrained Model Prediction: tensor([[0, 3, 6, 3, 6, 3, 6, 3, 6, 3]])\n",
            "Example Untrained Model Prediction: tensor([[0, 7, 1, 5, 4, 6, 3, 4, 6, 3]])\n",
            "Example Untrained Model Prediction: tensor([[0, 8, 1, 2, 2, 2, 2, 2, 2, 2]])\n",
            "Example Untrained Model Prediction: tensor([[0, 3, 4, 3, 2, 2, 2, 2, 2, 2]])\n"
          ]
        }
      ]
    },
    {
      "cell_type": "markdown",
      "source": [
        "# **Building Training Data Batches**"
      ],
      "metadata": {
        "id": "arrdOotccUT1"
      }
    },
    {
      "cell_type": "code",
      "source": [
        "class Batch:\n",
        "    \"\"\"Object for holding a batch of data with mask during training.\"\"\"\n",
        "\n",
        "    def __init__(self, src, tgt=None, pad=2):  # 2 = <blank>\n",
        "        self.src = src\n",
        "        self.src_mask = (src != pad).unsqueeze(-2)\n",
        "        if tgt is not None:\n",
        "            self.tgt = tgt[:, :-1]\n",
        "            self.tgt_y = tgt[:, 1:]\n",
        "            self.tgt_mask = self.make_std_mask(self.tgt, pad)\n",
        "            self.ntokens = (self.tgt_y != pad).data.sum()\n",
        "\n",
        "    @staticmethod\n",
        "    def make_std_mask(tgt, pad):\n",
        "        \"Create a mask to hide padding and future words.\"\n",
        "        tgt_mask = (tgt != pad).unsqueeze(-2)\n",
        "        tgt_mask = tgt_mask & subsequent_mask(tgt.size(-1)).type_as(\n",
        "            tgt_mask.data\n",
        "        )\n",
        "        return tgt_mask"
      ],
      "metadata": {
        "id": "ib2Zh5wHcT8a"
      },
      "execution_count": null,
      "outputs": []
    },
    {
      "cell_type": "markdown",
      "source": [
        "# **The Training Process**"
      ],
      "metadata": {
        "id": "tpCHY_ERZSf-"
      }
    },
    {
      "cell_type": "code",
      "source": [
        "class TrainState:\n",
        "    \"\"\"Track number of steps, examples, and tokens processed\"\"\"\n",
        "\n",
        "    step: int = 0  # Steps in the current epoch\n",
        "    accum_step: int = 0  # Number of gradient accumulation steps\n",
        "    samples: int = 0  # total # of examples used\n",
        "    tokens: int = 0  # total # of tokens processed"
      ],
      "metadata": {
        "id": "LvaYjMGHbbGr"
      },
      "execution_count": null,
      "outputs": []
    },
    {
      "cell_type": "code",
      "source": [
        "import time\n",
        "\n",
        "def run_epoch(\n",
        "    data_iter,\n",
        "    model,\n",
        "    loss_compute,\n",
        "    optimizer,\n",
        "    scheduler,\n",
        "    mode=\"train\",\n",
        "    accum_iter=1,\n",
        "    train_state=TrainState(),\n",
        "):\n",
        "    \"\"\"Train a single epoch\"\"\"\n",
        "    start = time.time()\n",
        "    total_tokens = 0\n",
        "    total_loss = 0\n",
        "    tokens = 0\n",
        "    n_accum = 0\n",
        "    for i, batch in enumerate(data_iter):\n",
        "        out = model.forward(\n",
        "            batch.src, batch.tgt, batch.src_mask, batch.tgt_mask\n",
        "        )\n",
        "        loss, loss_node = loss_compute(out, batch.tgt_y, batch.ntokens)\n",
        "        # loss_node = loss_node / accum_iter\n",
        "        if mode == \"train\" or mode == \"train+log\":\n",
        "            loss_node.backward()\n",
        "            train_state.step += 1\n",
        "            train_state.samples += batch.src.shape[0]\n",
        "            train_state.tokens += batch.ntokens\n",
        "            if i % accum_iter == 0:\n",
        "                optimizer.step()\n",
        "                optimizer.zero_grad(set_to_none=True)\n",
        "                n_accum += 1\n",
        "                train_state.accum_step += 1\n",
        "            scheduler.step()\n",
        "\n",
        "        total_loss += loss\n",
        "        total_tokens += batch.ntokens\n",
        "        tokens += batch.ntokens\n",
        "        if i % 40 == 1 and (mode == \"train\" or mode == \"train+log\"):\n",
        "            lr = optimizer.param_groups[0][\"lr\"]\n",
        "            elapsed = time.time() - start\n",
        "            print(\n",
        "                (\n",
        "                    \"Epoch Step: %6d | Accumulation Step: %3d | Loss: %6.2f \"\n",
        "                    + \"| Tokens / Sec: %7.1f | Learning Rate: %6.1e\"\n",
        "                )\n",
        "                % (i, n_accum, loss / batch.ntokens, tokens / elapsed, lr)\n",
        "            )\n",
        "            start = time.time()\n",
        "            tokens = 0\n",
        "        del loss\n",
        "        del loss_node\n",
        "    return total_loss / total_tokens, train_state"
      ],
      "metadata": {
        "id": "xzqURgGzcB8M"
      },
      "execution_count": null,
      "outputs": []
    },
    {
      "cell_type": "markdown",
      "source": [
        "# **Preparing the Data**\n"
      ],
      "metadata": {
        "id": "lv9ZifDrwkrW"
      }
    },
    {
      "cell_type": "code",
      "source": [
        "import torch\n",
        "import torchtext\n",
        "import spacy\n",
        "import os\n",
        "\n",
        "def load_tokenizers():\n",
        "\n",
        "    try:\n",
        "        spacy_de = spacy.load(\"de_core_news_sm\")\n",
        "    except IOError:\n",
        "        os.system(\"python -m spacy download de_core_news_sm\")\n",
        "        spacy_de = spacy.load(\"de_core_news_sm\")\n",
        "\n",
        "    try:\n",
        "        spacy_en = spacy.load(\"en_core_web_sm\")\n",
        "    except IOError:\n",
        "        os.system(\"python -m spacy download en_core_web_sm\")\n",
        "        spacy_en = spacy.load(\"en_core_web_sm\")\n",
        "\n",
        "    return spacy_de, spacy_en\n"
      ],
      "metadata": {
        "id": "R2gFamJtyBwp"
      },
      "execution_count": null,
      "outputs": []
    },
    {
      "cell_type": "code",
      "source": [
        "from torchtext.data.functional import to_map_style_dataset\n",
        "from torch.utils.data import DataLoader\n",
        "from torchtext.vocab import build_vocab_from_iterator\n",
        "import torchtext.datasets as datasets\n",
        "\n",
        "\n",
        "def tokenize(text, tokenizer):\n",
        "    return [tok.text for tok in tokenizer.tokenizer(text)]\n",
        "\n",
        "\n",
        "def yield_tokens(data_iter, tokenizer, index):\n",
        "    for from_to_tuple in data_iter:\n",
        "        yield tokenizer(from_to_tuple[index])\n",
        "\n",
        "\n",
        "def build_vocabulary(spacy_de, spacy_en):\n",
        "    def tokenize_de(text):\n",
        "        return tokenize(text, spacy_de)\n",
        "\n",
        "    def tokenize_en(text):\n",
        "        return tokenize(text, spacy_en)\n",
        "\n",
        "    # \"<s>\" SOS token\n",
        "    # \"</s>\" EOS token\n",
        "    # \"<blank>\" blank space token\n",
        "    # \"<unk>\" unknown word token\n",
        "    print(\"Building German Vocabulary ...\")\n",
        "    train, val, test = datasets.Multi30k(language_pair=(\"de\", \"en\"))\n",
        "\n",
        "    vocab_src = build_vocab_from_iterator(\n",
        "        yield_tokens(train + val, tokenize_de, index=0),\n",
        "        min_freq=2,\n",
        "        specials=[\"<s>\", \"</s>\", \"<blank>\", \"<unk>\"],\n",
        "    )\n",
        "\n",
        "    print(\"Building English Vocabulary ...\")\n",
        "\n",
        "    vocab_tgt = build_vocab_from_iterator(\n",
        "        yield_tokens(train + val, tokenize_en, index=1),\n",
        "        min_freq=2,\n",
        "        specials=[\"<s>\", \"</s>\", \"<blank>\", \"<unk>\"],\n",
        "    )\n",
        "\n",
        "    vocab_src.set_default_index(vocab_src[\"<unk>\"])\n",
        "    vocab_tgt.set_default_index(vocab_tgt[\"<unk>\"])\n",
        "\n",
        "    return vocab_src, vocab_tgt\n"
      ],
      "metadata": {
        "id": "LQmQ97CaDD18"
      },
      "execution_count": null,
      "outputs": []
    },
    {
      "cell_type": "markdown",
      "source": [
        "**Load and Tokenize Multi30k (German/English) Dataset**"
      ],
      "metadata": {
        "id": "LNrd8v4Yzy_3"
      }
    },
    {
      "cell_type": "code",
      "source": [
        "\n",
        "\n",
        "def load_vocab(spacy_de, spacy_en):\n",
        "    if not os.path.exists(\"vocab.pt\"):\n",
        "        vocab_src, vocab_tgt = build_vocabulary(spacy_de, spacy_en)\n",
        "        torch.save((vocab_src, vocab_tgt), \"vocab.pt\")\n",
        "    else:\n",
        "        vocab_src, vocab_tgt = torch.load(\"vocab.pt\")\n",
        "    print(\"Finished.\\nVocabulary sizes:\")\n",
        "    print(len(vocab_src))\n",
        "    print(len(vocab_tgt))\n",
        "    return vocab_src, vocab_tgt\n",
        "\n",
        "\n",
        "if is_interactive_notebook():\n",
        "    #global variables used later in the script\n",
        "    spacy_de, spacy_en = show_example(load_tokenizers)\n",
        "    vocab_src, vocab_tgt = show_example(load_vocab, args=[spacy_de, spacy_en])"
      ],
      "metadata": {
        "colab": {
          "base_uri": "https://localhost:8080/"
        },
        "id": "KW71lLh4PPw6",
        "outputId": "28f4ae43-76df-4faa-b1b8-05ab4b2ef108"
      },
      "execution_count": null,
      "outputs": [
        {
          "output_type": "stream",
          "name": "stdout",
          "text": [
            "Finished.\n",
            "Vocabulary sizes:\n",
            "3712\n",
            "3430\n"
          ]
        }
      ]
    }
  ]
}